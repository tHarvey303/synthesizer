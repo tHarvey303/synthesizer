{
 "cells": [
  {
   "attachments": {},
   "cell_type": "markdown",
   "id": "659dcb3a-891b-4271-9073-d02efbeb14d5",
   "metadata": {},
   "source": [
    "# The ``Grid`` Object\n",
    "\n",
    "Here we show how to instantiate a ``Grid`` object and use it to explore a grid file."
   ]
  },
  {
   "cell_type": "code",
   "execution_count": null,
   "id": "79c4459f-4b18-43dd-922f-f20ad58bbfd6",
   "metadata": {
    "nbsphinx": "hidden"
   },
   "outputs": [],
   "source": [
    "import matplotlib.pyplot as plt\n",
    "import numpy as np\n",
    "from unyt import angstrom"
   ]
  },
  {
   "cell_type": "markdown",
   "id": "0d593e25-4783-4c38-b346-4c30d07d7482",
   "metadata": {},
   "source": [
    "The ``Grid`` object needs a file to load, these are HDF5 files that are available through the ``synthesizer-download`` command line tool (for more details see [the introduction to grids](grids.rst). By default, once downloaded these files are stored in the ``GRID_DIR`` directory. The default location of this directory is platform dependent, but the location can be found by import it and printing it."
   ]
  },
  {
   "cell_type": "code",
   "execution_count": null,
   "id": "50c9e74d",
   "metadata": {},
   "outputs": [],
   "source": [
    "from synthesizer import GRID_DIR\n",
    "\n",
    "print(GRID_DIR)"
   ]
  },
  {
   "cell_type": "markdown",
   "id": "c977bb21",
   "metadata": {},
   "source": [
    "This directory can be overriden by setting the ``SYNTHESIZER_GRID_DIR`` environment variable.\n",
    "\n",
    "Assuming the grid file is in the default location, all we need to do is pass the name of the grid we want to load to the ``Grid`` constructor. Note that the name of the grid can include the extension or not. If the extension is not included, it is assumed to be ``\"hdf5\"``. \n",
    "\n",
    "Here we will load the test grid (a simplified BPASS 2.2.1 grid)."
   ]
  },
  {
   "cell_type": "code",
   "execution_count": null,
   "id": "61cf2105",
   "metadata": {},
   "outputs": [],
   "source": [
    "from synthesizer import Grid\n",
    "\n",
    "grid = Grid(\"test_grid.hdf5\")"
   ]
  },
  {
   "cell_type": "markdown",
   "id": "5bc9b466",
   "metadata": {},
   "source": [
    "If we are loading a grid from a different location we can just pass that path to the ``grid_dir`` argument."
   ]
  },
  {
   "cell_type": "code",
   "execution_count": null,
   "id": "ab9f8f9a",
   "metadata": {
    "nbsphinx": "hidden"
   },
   "outputs": [],
   "source": [
    "import os\n",
    "from shutil import copyfile\n",
    "\n",
    "# Copy the grid file to the stated directory to\n",
    "# demonstrate the grid_dir argument\n",
    "copyfile(\n",
    "    os.path.join(GRID_DIR, \"test_grid.hdf5\"),\n",
    "    os.path.join(\"../../../tests/test_grid\", \"test_grid.hdf5\"),\n",
    ")"
   ]
  },
  {
   "cell_type": "code",
   "execution_count": null,
   "id": "8a9b1038-a78b-4c5d-8d04-c6f0cebda0a9",
   "metadata": {},
   "outputs": [],
   "source": [
    "grid = Grid(\n",
    "    \"test_grid.hdf5\", grid_dir=\"../../../tests/test_grid\", ignore_lines=True\n",
    ")"
   ]
  },
  {
   "cell_type": "markdown",
   "id": "b392db95",
   "metadata": {},
   "source": [
    "## Printing a summary of the `Grid`\n",
    "\n",
    "We can have a look at what the loaded grid contains by simply printing the grid. "
   ]
  },
  {
   "cell_type": "code",
   "execution_count": null,
   "id": "4eb588f7",
   "metadata": {},
   "outputs": [],
   "source": [
    "print(grid)"
   ]
  },
  {
   "cell_type": "markdown",
   "id": "444cb6c0",
   "metadata": {},
   "source": [
    "In this instance, its a stellar grid with the `incident` spectrum defined by the `axes_values`, `ages` and `metallicities`. The grid also contains some useful quantites like the photon rate (`log10_specific_ionising_luminosity`) available for fully ionising hydrogen and helium. \n",
    "\n",
    "Since this grid is a cloudy processed grid, there are additional spectra or line data that are available to extract or manipulate. These include (but not limited to)\n",
    "- `spectra`\n",
    "    - `nebular`: is the nebular continuum (including line emission) predicted by the photoionisation model\n",
    "    - `linecont`: this is the line contribution to the spectrum\n",
    "    - `transmitted`: this is the incident spectra that is transmitted through the gas in the photoionisation modelling; it has zero flux at shorter wavelength of the lyman-limit\n",
    "    - `wavelength`: the wavelength covered\n",
    "- `lines`\n",
    "    - `id`: line id, this is the same as used in cloudy (see [Linelist generation](https://github.com/synthesizer-project/grid-generation/tree/main/src/synthesizer_grids/cloudy/create_linelist))\n",
    "    - `luminosity`: the luminosity of the line\n",
    "    - `nebular_continuum`: the underlying nebular continuum at the line\n",
    "    - `transmitted`: this is the transmitted luminosity at the line\n",
    "    - `wavelength`:  the wavelength of the line\n",
    "\n",
    "A similar structure is also followed for AGN grids, where the `axes` could either be described by `mass` (black hole mass), `acretion_rate_eddington` (the accretion rate normalised to the eddington limit for the mass), `cosine_inclination` (cosine value describing the inclination of the AGN), or the `temperature` (blackbody temperature of the big bump component), `alpha-ox` (X-ray to UV ratio) , `alpha-uv` (low-energy slope of the big bump component), `alpha-x` (slope of the X-ray component)."
   ]
  },
  {
   "cell_type": "markdown",
   "id": "4e761cc1",
   "metadata": {},
   "source": [
    "## Limiting the ``Grid``\n",
    "\n",
    "A `Grid` can be limited in various ways to reduce memory usage and focus on specific wavelength regions or parameter ranges. This can be done either during instantiation or after the grid is loaded using dedicated reduction methods.\n",
    "\n",
    "### Limiting during instantiation\n",
    "\n",
    "#### Passing a wavelength array\n",
    "\n",
    "If you only care about a grid of specific wavelength values, you can pass this array and the `Grid` will automatically be interpolated onto the new wavelength array at instantiation using [SpectRes](https://github.com/ACCarnall/SpectRes)."
   ]
  },
  {
   "cell_type": "code",
   "execution_count": null,
   "id": "d9006245",
   "metadata": {},
   "outputs": [],
   "source": [
    "# Define a new set of wavelengths\n",
    "new_lams = np.logspace(2, 5, 1000) * angstrom\n",
    "\n",
    "# Create a new grid\n",
    "grid = Grid(\n",
    "    \"test_grid\",\n",
    "    # ignore_lines=True,\n",
    "    new_lam=new_lams,\n",
    ")\n",
    "print(grid.shape)"
   ]
  },
  {
   "attachments": {},
   "cell_type": "markdown",
   "id": "67d20f67",
   "metadata": {},
   "source": [
    "#### Passing wavelength limits\n",
    "\n",
    "If you don't want to modify the underlying grid resolution, but only care about a specific wavelength range, you can instead pass limits to truncate the grid at instantiation."
   ]
  },
  {
   "cell_type": "code",
   "execution_count": null,
   "id": "30039ef3",
   "metadata": {},
   "outputs": [],
   "source": [
    "# Create a new grid\n",
    "grid = Grid(\"test_grid\", lam_lims=(10**3 * angstrom, 10**4 * angstrom))\n",
    "print(grid.shape)"
   ]
  },
  {
   "attachments": {},
   "cell_type": "markdown",
   "id": "6905164e",
   "metadata": {},
   "source": [
    "#### Ignoring spectra or lines\n",
    "\n",
    "It is also possible to ignore either spectra or lines. This can be useful if, for example, you have a large multi-dimensional grid and only want to consider lines since these are much smaller in memory."
   ]
  },
  {
   "cell_type": "code",
   "execution_count": null,
   "id": "0c17cad3",
   "metadata": {},
   "outputs": [],
   "source": [
    "# Create a new grid without spectra\n",
    "grid = Grid(\"test_grid\", ignore_spectra=True)\n",
    "\n",
    "print(grid.available_spectra)\n",
    "\n",
    "# Create a new grid without lines\n",
    "grid = Grid(\"test_grid\", ignore_lines=True)"
   ]
  },
  {
   "cell_type": "markdown",
   "id": "s4tjq5f6rdn",
   "metadata": {},
   "source": [
    "### Grid reduction methods\n",
    "\n",
    "Beyond limiting during instantiation, grids can also be modified after loading using dedicated reduction methods. These methods **return a new Grid object by default**, leaving the original grid unchanged. For in-place modification, you can add `inplace=True` to any reduction method and this will instead modify the existing grid.\n",
    "\n",
    "#### Wavelength range reduction\n",
    "\n",
    "You can reduce a grid to a specific rest-frame wavelength range."
   ]
  },
  {
   "cell_type": "code",
   "execution_count": null,
   "id": "qg9579ov9fa",
   "metadata": {},
   "outputs": [],
   "source": [
    "# Load a fresh grid\n",
    "grid = Grid(\"test_grid\")\n",
    "print(\n",
    "    f\"Original wavelength range: {grid.lam.min():.0f} - {grid.lam.max():.0f}\"\n",
    ")\n",
    "print(f\"Original grid shape: {grid.shape}\")\n",
    "\n",
    "# Reduce to a specific rest-frame wavelength range (UV-optical)\n",
    "# Returns a new grid by default, leaving the original unchanged\n",
    "reduced_grid = grid.reduce_rest_frame_range(1000 * angstrom, 8000 * angstrom)\n",
    "print(\n",
    "    f\"Reduced wavelength range: {reduced_grid.lam.min():.0f} - \"\n",
    "    f\"{reduced_grid.lam.max():.0f}\"\n",
    ")\n",
    "print(f\"Reduced grid shape: {reduced_grid.shape}\")"
   ]
  },
  {
   "cell_type": "markdown",
   "id": "hy0l00wideo",
   "metadata": {},
   "source": [
    "Notice that the code warns you if any lines are now outside the wavelength range and have been removed.\n",
    "\n",
    "You can also limit to an observer-frame wavelength range at a specific redshift."
   ]
  },
  {
   "cell_type": "code",
   "execution_count": null,
   "id": "cpxovd96dbq",
   "metadata": {},
   "outputs": [],
   "source": [
    "# Load a fresh grid\n",
    "grid = Grid(\"test_grid\")\n",
    "\n",
    "# Reduce to observed wavelength range at redshift z=1\n",
    "redshift = 1.0\n",
    "reduced_grid = grid.reduce_observed_range(\n",
    "    2000 * angstrom, 8000 * angstrom, redshift\n",
    ")\n",
    "print(\n",
    "    f\"Rest-frame range after observed reduction: \"\n",
    "    f\"{reduced_grid.lam.min():.0f} - {reduced_grid.lam.max():.0f}\"\n",
    ")\n",
    "print(f\"Grid shape: {reduced_grid.shape}\")"
   ]
  },
  {
   "cell_type": "markdown",
   "id": "hf8tgesvxdd",
   "metadata": {},
   "source": [
    "You can also reduce to a specific wavelength array (via interpolation using SpectRes)."
   ]
  },
  {
   "cell_type": "code",
   "execution_count": null,
   "id": "5uyezsw2x3d",
   "metadata": {},
   "outputs": [],
   "source": [
    "# Load a fresh grid\n",
    "grid = Grid(\"test_grid\")\n",
    "\n",
    "# Define a custom wavelength array (lower resolution)\n",
    "custom_lam = np.logspace(2.5, 4.5, 500) * angstrom\n",
    "\n",
    "# Reduce the grid to this wavelength array\n",
    "reduced_grid = grid.reduce_rest_frame_lam(custom_lam)\n",
    "print(f\"New wavelength points: {len(reduced_grid.lam)}\")\n",
    "print(f\"Grid shape: {reduced_grid.shape}\")\n",
    "print(f\"Original grid unchanged: {len(grid.lam)} wavelength points\")"
   ]
  },
  {
   "cell_type": "markdown",
   "id": "774e0a9d",
   "metadata": {},
   "source": [
    "Which can also be done in the observer-frame at a specific redshift."
   ]
  },
  {
   "cell_type": "code",
   "execution_count": null,
   "id": "bc4dfe5a",
   "metadata": {},
   "outputs": [],
   "source": [
    "# Load a fresh grid\n",
    "grid = Grid(\"test_grid\")\n",
    "\n",
    "# Define a custom observed wavelength array (lower resolution)\n",
    "redshift = 1.0\n",
    "custom_lam = np.logspace(2.5, 4.5, 500) * angstrom * (1 + redshift)\n",
    "\n",
    "# Reduce the grid to this wavelength array at the specified redshift\n",
    "reduced_grid = grid.reduce_observed_lam(custom_lam, redshift)\n",
    "print(f\"New wavelength points: {len(reduced_grid.lam)}\")\n",
    "print(f\"Grid shape: {reduced_grid.shape}\")"
   ]
  },
  {
   "cell_type": "markdown",
   "id": "ohh0dubcmx",
   "metadata": {},
   "source": [
    "#### Filter-based reduction\n",
    "\n",
    "You can reduce a grid to the non-zero transmission wavelength range of a set of filters. Again, this can be done in either the rest-frame or observer-frame at a specific redshift."
   ]
  },
  {
   "cell_type": "code",
   "execution_count": null,
   "id": "svevxcwo3qk",
   "metadata": {},
   "outputs": [],
   "source": [
    "from synthesizer.instruments.filters import UVJ\n",
    "\n",
    "# Load a fresh grid\n",
    "grid = Grid(\"test_grid\")\n",
    "\n",
    "# Get UVJ filter collection\n",
    "filters = UVJ()\n",
    "print(f\"Filter effective wavelengths: {[f.lam_eff for f in filters]}\")\n",
    "\n",
    "# Reduce grid to rest-frame filter range\n",
    "reduced_grid = grid.reduce_rest_frame_filters(filters)\n",
    "print(\n",
    "    f\"Grid reduced to filter range: {reduced_grid.lam.min():.0f} - \"\n",
    "    f\"{reduced_grid.lam.max():.0f}\"\n",
    ")\n",
    "print(f\"Grid shape: {reduced_grid.shape}\")\n",
    "\n",
    "# You can also reduce to observer-frame filter ranges\n",
    "# For in-place modification, use inplace=True\n",
    "redshift = 2.0\n",
    "grid.reduce_observed_filters(filters, redshift, inplace=True)\n",
    "print(\n",
    "    f\"Grid reduced for z={redshift} observations (in-place): \"\n",
    "    f\"{grid.lam.min():.0f} - {grid.lam.max():.0f}\"\n",
    ")"
   ]
  },
  {
   "cell_type": "markdown",
   "id": "0afgwoast1dn",
   "metadata": {},
   "source": [
    "#### Parameter axis reduction\n",
    "\n",
    "Instead of limiting the wavelength range, you might instead be interested in limiting the parameter space of the grid. This can be done using the `reduce_axis` method. "
   ]
  },
  {
   "cell_type": "code",
   "execution_count": null,
   "id": "01orcn0h4ek9",
   "metadata": {},
   "outputs": [],
   "source": [
    "# Load a fresh grid\n",
    "grid = Grid(\"test_grid\")\n",
    "print(\n",
    "    f\"Original (log10) age range: {grid.log10ages.min():.1f} - \"\n",
    "    f\"{grid.log10ages.max():.1f}\"\n",
    ")\n",
    "print(\n",
    "    f\"Original metallicity range: {grid.metallicities.min():.3f} - \"\n",
    "    f\"{grid.metallicities.max():.3f}\"\n",
    ")\n",
    "print(f\"Original grid shape: {grid.shape}\")\n",
    "\n",
    "# Reduce to young stellar populations only (log age < 7.5)\n",
    "age_reduced_grid = grid.reduce_axis(6, 7.5, \"log10ages\")\n",
    "print(\n",
    "    f\"Reduced age range: {age_reduced_grid.log10ages.min():.1f} - \"\n",
    "    f\"{age_reduced_grid.log10ages.max():.1f}\"\n",
    ")\n",
    "print(f\"Grid shape after age reduction: {age_reduced_grid.shape}\")\n",
    "\n",
    "# Further reduce to low metallicity (Z < 0.02)\n",
    "final_grid = age_reduced_grid.reduce_axis(\n",
    "    age_reduced_grid.metallicities.min(), 0.02, \"metallicities\"\n",
    ")\n",
    "print(\n",
    "    f\"Reduced metallicity range: {final_grid.metallicities.min():.3f} - \"\n",
    "    f\"{final_grid.metallicities.max():.3f}\"\n",
    ")\n",
    "print(f\"Final grid shape: {final_grid.shape}\")"
   ]
  },
  {
   "cell_type": "markdown",
   "id": "b0369fd6",
   "metadata": {},
   "source": [
    "You can chain these calls together in a single line if you want to."
   ]
  },
  {
   "cell_type": "code",
   "execution_count": null,
   "id": "a83beffa",
   "metadata": {},
   "outputs": [],
   "source": [
    "# Load a fresh grid\n",
    "grid = Grid(\"test_grid\")\n",
    "\n",
    "reduced_grid = grid.reduce_axis(6, 7.5, \"log10ages\").reduce_axis(\n",
    "    grid.metallicities.min(), 0.01, \"metallicities\"\n",
    ")\n",
    "print(\"Original grid shape:\", grid.shape)\n",
    "print(\"Reduced grid shape:\", reduced_grid.shape)"
   ]
  },
  {
   "cell_type": "markdown",
   "id": "llcpoc7w",
   "metadata": {},
   "source": [
    "### Grid collapse methods\n",
    "\n",
    "Beyond reduction, you can also collapse entire parameter dimensions using various methods:\n",
    "\n",
    "#### Marginalization\n",
    "\n",
    "Collapse a dimension by marginalizing (e.g., averaging) over it:"
   ]
  },
  {
   "cell_type": "code",
   "execution_count": null,
   "id": "k79dlc8r7ue",
   "metadata": {},
   "outputs": [],
   "source": [
    "# Load a fresh grid\n",
    "grid = Grid(\"test_grid\")\n",
    "print(f\"Original axes: {grid.axes}\")\n",
    "print(f\"Original shape: {grid.shape}\")\n",
    "\n",
    "# Collapse over metallicity by averaging\n",
    "collapsed_grid = grid.collapse(\n",
    "    \"metallicities\", method=\"marginalize\", marginalize_function=np.mean\n",
    ")\n",
    "print(f\"Axes after collapse: {collapsed_grid.axes}\")\n",
    "print(f\"Shape after collapse: {collapsed_grid.shape}\")\n",
    "print(f\"Original grid unchanged: {grid.axes}\")"
   ]
  },
  {
   "cell_type": "markdown",
   "id": "adbbiou4bra",
   "metadata": {},
   "source": [
    "#### Interpolation to specific values\n",
    "\n",
    "Collapse a dimension by interpolating to a specific parameter value:"
   ]
  },
  {
   "cell_type": "code",
   "execution_count": null,
   "id": "gseok9hpku9",
   "metadata": {},
   "outputs": [],
   "source": [
    "# Load a fresh grid\n",
    "grid = Grid(\"test_grid\")\n",
    "\n",
    "# Collapse to a specific age (log10(age) = 6.5)\n",
    "target_age = 6.5\n",
    "collapsed_grid = grid.collapse(\n",
    "    \"log10ages\", method=\"interpolate\", value=target_age\n",
    ")\n",
    "print(f\"Collapsed to log10(age) = {target_age}\")\n",
    "print(f\"Remaining axes: {collapsed_grid.axes}\")\n",
    "print(f\"Shape after collapse: {collapsed_grid.shape}\")\n",
    "print(f\"Original grid unchanged: {grid.axes}\")"
   ]
  },
  {
   "cell_type": "markdown",
   "id": "wtz211qbrs",
   "metadata": {},
   "source": [
    "#### Nearest value extraction\n",
    "\n",
    "Collapse by extracting the nearest grid point:"
   ]
  },
  {
   "cell_type": "code",
   "execution_count": null,
   "id": "n3coe8176ko",
   "metadata": {},
   "outputs": [],
   "source": [
    "# Load a fresh grid\n",
    "grid = Grid(\"test_grid\")\n",
    "\n",
    "# Collapse to nearest metallicity value\n",
    "target_Z = 0.015\n",
    "collapsed_grid = grid.collapse(\n",
    "    \"metallicities\", method=\"nearest\", value=target_Z\n",
    ")\n",
    "print(f\"Collapsed to nearest Z = {target_Z}\")\n",
    "print(f\"Remaining axes: {collapsed_grid.axes}\")\n",
    "print(f\"Shape after collapse: {collapsed_grid.shape}\")\n",
    "print(f\"Original grid unchanged: {grid.axes}\")"
   ]
  },
  {
   "cell_type": "markdown",
   "id": "nwq3km8ff7b",
   "metadata": {},
   "source": [
    "### Combining methods for efficient workflows\n",
    "\n",
    "These methods can be combined for efficient analysis workflows:"
   ]
  },
  {
   "cell_type": "code",
   "execution_count": null,
   "id": "hh6qakxbh9r",
   "metadata": {},
   "outputs": [],
   "source": [
    "# Example: Focus on young, metal-poor stars in the optical\n",
    "# Method 1: Chain operations (returns new grids each time)\n",
    "grid = Grid(\"test_grid\")\n",
    "print(f\"Starting grid shape: {grid.shape}\")\n",
    "\n",
    "# Chain the operations - each returns a new grid\n",
    "final_grid = (\n",
    "    grid.reduce_rest_frame_range(\n",
    "        3000 * angstrom, 7000 * angstrom\n",
    "    )  # 1. Optical wavelengths\n",
    "    .reduce_axis(\n",
    "        grid.log10ages.min(), 7.0, \"log10ages\"\n",
    "    )  # 2. Young populations\n",
    "    .collapse(\"metallicities\", method=\"nearest\", value=0.02)\n",
    ")  # 3. Solar metallicity\n",
    "\n",
    "print(f\"Final grid shape: {final_grid.shape}\")\n",
    "print(f\"Original grid unchanged: {grid.shape}\")\n",
    "\n",
    "# Method 2: In-place operations (modifies the same grid)\n",
    "grid2 = Grid(\"test_grid\")\n",
    "print(\"\\nAlternative approach - modifying in-place:\")\n",
    "print(f\"Starting grid shape: {grid2.shape}\")\n",
    "\n",
    "# Modify the grid in-place\n",
    "grid2.reduce_rest_frame_range(3000 * angstrom, 7000 * angstrom, inplace=True)\n",
    "print(f\"After wavelength reduction: {grid2.shape}\")\n",
    "\n",
    "grid2.reduce_axis(grid2.log10ages.min(), 7.0, \"log10ages\", inplace=True)\n",
    "print(f\"After age reduction: {grid2.shape}\")\n",
    "\n",
    "grid2.collapse(\"metallicities\", method=\"nearest\", value=0.02, inplace=True)\n",
    "print(f\"After metallicity collapse: {grid2.shape}\")"
   ]
  },
  {
   "cell_type": "markdown",
   "id": "ae701e97-14bb-4abc-95ad-782751c5259f",
   "metadata": {},
   "source": [
    "## Plot a single grid point\n",
    "\n",
    "We can plot the spectra at the location of a single point in our grid. First, we choose some age and metallicity."
   ]
  },
  {
   "cell_type": "code",
   "execution_count": null,
   "id": "decbb271-c6e2-4e72-b992-b6e5bbb7d039",
   "metadata": {},
   "outputs": [],
   "source": [
    "# Return to the unmodified grid\n",
    "grid = Grid(\"test_grid\")\n",
    "\n",
    "log10age = 6.0  # log10(age/yr)\n",
    "Z = 0.01  # metallicity"
   ]
  },
  {
   "cell_type": "markdown",
   "id": "0e51fb94-f892-4d56-9424-5432709fa937",
   "metadata": {},
   "source": [
    "We then get the index location of that grid point for this age and metallicity"
   ]
  },
  {
   "cell_type": "code",
   "execution_count": null,
   "id": "b95a6646-917b-431e-b2d1-72d08dee0f9d",
   "metadata": {},
   "outputs": [],
   "source": [
    "grid_point = grid.get_grid_point(log10ages=log10age, metallicity=Z)"
   ]
  },
  {
   "cell_type": "markdown",
   "id": "8704a652-2145-4d24-af2a-b81e23853daf",
   "metadata": {},
   "source": [
    "We can then loop over the available spectra (contained in `grid.spec_names`) and plot"
   ]
  },
  {
   "cell_type": "code",
   "execution_count": null,
   "id": "423dea3a-1a67-4f21-b26c-99008ebb8860",
   "metadata": {},
   "outputs": [],
   "source": [
    "for spectra_type in grid.available_spectra:\n",
    "    # Get `Sed` object\n",
    "    sed = grid.get_sed_at_grid_point(grid_point, spectra_type=spectra_type)\n",
    "\n",
    "    # Mask zero valued elements\n",
    "    mask = sed.lnu > 0\n",
    "    plt.plot(\n",
    "        np.log10(sed.lam[mask]),\n",
    "        np.log10(sed.lnu[mask]),\n",
    "        lw=1,\n",
    "        alpha=0.8,\n",
    "        label=spectra_type,\n",
    "    )\n",
    "\n",
    "plt.legend(fontsize=8, labelspacing=0.0)\n",
    "plt.xlim(2.3, 8)\n",
    "plt.ylim(19, 25)\n",
    "plt.xlabel(r\"$\\rm log_{10}(\\lambda/\\AA)$\")\n",
    "plt.ylabel(r\"$\\rm log_{10}(L_{\\nu}/erg\\ s^{-1}\\ Hz^{-1} M_{\\odot}^{-1})$\")"
   ]
  },
  {
   "cell_type": "markdown",
   "id": "7a1625be-deef-4730-bf48-a30422507224",
   "metadata": {},
   "source": [
    "## Plot ionising luminosities\n",
    "\n",
    "We can also plot properties over the entire age and metallicity grid, such as the ionising luminosity. \n",
    "\n",
    "In the examples below we plot ionising luminosities for HI and HeII"
   ]
  },
  {
   "cell_type": "code",
   "execution_count": null,
   "id": "eb8088ad-e7ef-4600-941d-0c8b01c59a5d",
   "metadata": {},
   "outputs": [],
   "source": [
    "fig, ax = grid.plot_specific_ionising_lum(ion=\"HI\")"
   ]
  },
  {
   "cell_type": "code",
   "execution_count": null,
   "id": "3ac8ca54-9707-4125-9715-d878a0ed5e27",
   "metadata": {},
   "outputs": [],
   "source": [
    "fig, ax = grid.plot_specific_ionising_lum(ion=\"HeII\")"
   ]
  }
 ],
 "metadata": {},
 "nbformat": 4,
 "nbformat_minor": 5
}
