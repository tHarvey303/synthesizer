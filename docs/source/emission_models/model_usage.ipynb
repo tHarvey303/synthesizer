{
 "cells": [
  {
   "cell_type": "markdown",
   "metadata": {},
   "source": [
    "# Emission model basics\n",
    "\n",
    "Here we give an overview of the basic functionality of an ``EmissionModel``. Elsewhere we cover [what models are available](premade_models/premade_models.rst), [how to modify a model](modify_models.ipynb), [making your own custom models](custom_models.ipynb), and [combining models from different components](combined_models.ipynb).\n",
    "\n",
    "## Operations\n",
    " \n",
    "To use an ``EmissionModel`` model we simply instantiate it with the required arguments.\n",
    "However, which arguments are required depends on the exact operation.  \n",
    "\n",
    "### Extraction\n",
    "For *extraction* operations you need:\n",
    "\n",
    "- A grid to extract from (``grid``).\n",
    "- A key to extract (``extract``). \n",
    "\n",
    "### Generation\n",
    "For *generation* operations you need:\n",
    "\n",
    "- A generator class (e.g. a [stellar emission model](premade_models/stellar_models.ipynb)) from which to generate spectra (``generator``). \n",
    "\n",
    "### Transformation\n",
    "For *transformation* operations you need:\n",
    "\n",
    "- The transformer (e.g. a [dust curve](attenuation/dust_attenuation.ipynb) or [igm](attenuation/igm.ipynb)) to apply (``transformer``/``dust_curve``/``igm``, arguments are interchangable).\n",
    "- The model to apply the transformation to (``apply_to``).\n",
    "\n",
    "### Combination\n",
    "For *combination* operations you need:\n",
    "\n",
    "- A list of models which will be combined (i.e. added) to give the resultant emission (``combine``).\n",
    "\n",
    "### Masking\n",
    "Masking can be applied alongside any of the above operations.\n",
    "Any number of masks can be combined on the same operation.\n",
    "Each mask is defined by:\n",
    "\n",
    "- The attribute of the component to mask on (``mask_attr``).\n",
    "- The operator to use when generating the mask, i.e. ``\"<\"``, ``\">\"``, ``\"<=\"``, ``\">=\"``, ``\"==\"``, or ``\"!=\"`` (``mask_op``).\n",
    "- The threshold of the mask (``mask_thresh``).\n",
    "\n",
    "\n",
    "\n",
    "\n",
    "## Getting a model\n",
    "\n",
    "For this demonstration we'll load the ``TotalEmission`` premade stellar emisison model.\n",
    "When using a premade model we need to define certain key parameters here we need a ``dust_curve``, for more details see the [premade model docs](premade_models/premade_models.rst)."
   ]
  },
  {
   "cell_type": "code",
   "execution_count": null,
   "metadata": {},
   "outputs": [],
   "source": [
    "from unyt import Myr\n",
    "\n",
    "from synthesizer.emission_models import TotalEmission\n",
    "from synthesizer.emission_models.attenuation import PowerLaw\n",
    "from synthesizer.grid import Grid\n",
    "\n",
    "# Get the grid which we'll need for extraction\n",
    "grid_name = \"test_grid\"\n",
    "grid = Grid(grid_name)\n",
    "\n",
    "total = TotalEmission(grid=grid, dust_curve=PowerLaw(slope=-1))"
   ]
  },
  {
   "cell_type": "markdown",
   "metadata": {},
   "source": [
    "> When using more complex [premade models](premade_models/premade_models.rst), with a deeper \"tree\", more parameters will be required to populate their \"child\" models deeper in the tree.\n",
    "> This tree terminology will become clear later -- don't worry about the specifics here if you are just starting with synthesizer ``EmissionModels``.\n",
    "\n",
    "In addition to the arguments specfic to each type of model, any model can be passed arguments to define a mask:\n",
    "- ``mask_attr``, the emitter attribute to define a mask with\n",
    "- ``mask_op``, the operator to use in the mask\n",
    "- ``mask_thresh``, the threshold for the mask\n",
    "\n",
    "In the example below we apply a mask to the stellar ages, so that only emission from stars less than 10 Myr old are returned."
   ]
  },
  {
   "cell_type": "code",
   "execution_count": null,
   "metadata": {},
   "outputs": [],
   "source": [
    "masked_total = TotalEmission(\n",
    "    grid=grid,\n",
    "    label=\"young_total\",\n",
    "    dust_curve=PowerLaw(slope=-1),\n",
    "    mask_attr=\"ages\",\n",
    "    mask_op=\"<\",\n",
    "    mask_thresh=10 * Myr,\n",
    ")"
   ]
  },
  {
   "cell_type": "markdown",
   "metadata": {},
   "source": [
    "> In the above case we used a global mask on the ``TotalEmission`` model, so that every child model in the tree has also been masked.\n",
    "> In most (but certainly not all) cases you'll only want specific models masked. \n",
    "> This can either be done by [constructing your own models](custom_models.ipynb) or [modifying existing ones](modify_models.ipynb). \n",
    "\n",
    "### Printing a summary of an ``EmissionModel``\n",
    "\n",
    "If we want to see a summary of all the models contained within an instance of an ``EmissionModel`` we simply print the model."
   ]
  },
  {
   "cell_type": "code",
   "execution_count": null,
   "metadata": {},
   "outputs": [],
   "source": [
    "print(masked_total)"
   ]
  },
  {
   "cell_type": "markdown",
   "metadata": {},
   "source": [
    "This returns a text block describing each model, including its label (in all caps), its emitter (in brackets after the label), and the operation the model performs, followed by the parameters defining the operation. It also shows which `key` is being extracted from the grids (see [Grid](../emission_grids/grids_example.ipynb) docs).\n",
    "\n",
    "## Parameter overriding \n",
    "\n",
    "Any parameters that aren't listed in the operations above are assumed to be attributes of the \"emitter\" being used to generate the emission, i.e. a ``Galaxy``, ``Stars``, or ``BlackHole/s``. \n",
    "For instance, an extraction can include an escape fraction (``fesc``) or a transformation applying a dust curve will require a V-band optical depth (``tau_v``). Both of these parameters will be extracted from the emitter during the emission calculation. \n",
    "\n",
    "However, these parameters can be overidden by passing them as keyword arguments when instantiating the ``EmissionModel``. Any parameters passed in this way will take precedence over the emitter's attributes. "
   ]
  },
  {
   "cell_type": "code",
   "execution_count": null,
   "metadata": {},
   "outputs": [],
   "source": [
    "fixed_tau_v = TotalEmission(\n",
    "    grid=grid,\n",
    "    label=\"young_total\",\n",
    "    dust_curve=PowerLaw(slope=-1),\n",
    "    tau_v=0.67,\n",
    ")\n",
    "print(fixed_tau_v)"
   ]
  },
  {
   "cell_type": "markdown",
   "metadata": {},
   "source": [
    "Notice how every model now has tau_v set to 0.67 in the `Fixed parameters` section. \n",
    "\n",
    "## Reusing Existing Emission On An Emitter\n",
    "\n",
    "Instead of providing full ``EmissionModel`` objects to certain operations, you can pass string labels that match existing emission keys in the component's ``spectra`` dictionary. This allows you to reuse previously generated emissions without regenerating them from scratch, which is particularly useful for parameter studies or when applying multiple transformations.\n",
    "\n",
    "This functionality is available for:\n",
    "\n",
    "- **Transformation operations**: Pass a string label to the ``apply_to`` argument instead of an ``EmissionModel``. The transformation will be applied to the existing emission with that label.\n",
    "- **Combination operations**: Include string labels in the ``combine`` list alongside or instead of ``EmissionModel`` objects. The existing emissions will be combined with any newly generated ones.\n",
    "- **Dust emission generators**: Pass string labels to ``lum_intrinsic_model`` and ``lum_attenuated_model`` arguments to reference existing emissions for energy balance calculations.\n",
    "\n",
    "For a practical example of this functionality, see the demonstration in the [stellar spectra docs](../emissions/spectra/stars.ipynb) where different dust attenuation parameters are applied to the same underlying intrinsic emission.\n"
   ]
  },
  {
   "cell_type": "markdown",
   "metadata": {},
   "source": [
    "\n",
    "## Plotting an ``EmissionModel``\n",
    "\n",
    "For a more detailed view of how models relate to each other we can visualise the tree itself:"
   ]
  },
  {
   "cell_type": "code",
   "execution_count": null,
   "metadata": {},
   "outputs": [],
   "source": [
    "total.plot_emission_tree()\n",
    "masked_total.plot_emission_tree()"
   ]
  },
  {
   "cell_type": "markdown",
   "metadata": {},
   "source": [
    "In the tree we can see each individual spectra generated by the model, and how they relate:\n",
    "\n",
    "- Solid lines denote combinations of spectra. \n",
    "- Dashed lines denote a transformation of the child spectra to produce the parent. \n",
    "- Dotted lines denote a relationship between the parent generator and it's child spectra used to scale the generated spectra (not required for all generators). \n",
    "- Solid outlines have no mask applied. \n",
    "- Dashed outlines have a mask applied to them. \n",
    "- Square boxes are an extraction operation. \n",
    "- Boxes with rounded corners are generation, transformation or combination operations. \n",
    "\n",
    "You'll notice the extraction operations are always leaves in the tree.\n",
    "\n",
    "## Extracting models\n",
    "\n",
    "An emission model can be treated like a dictionary -- if we want to get a model from somewhere in the tree, we simply index with the model label."
   ]
  },
  {
   "cell_type": "code",
   "execution_count": null,
   "metadata": {},
   "outputs": [],
   "source": [
    "sub_model = total[\"reprocessed\"]\n",
    "sub_model.plot_emission_tree()"
   ]
  },
  {
   "cell_type": "markdown",
   "metadata": {},
   "source": [
    "## Generating spectra and lines\n",
    "\n",
    "We'll cover this in greater detail in the [emissions](../emissions/emissions.rst) docs, but to generate an emission from an ``EmissionModel`` you need to:\n",
    "\n",
    "- Set up your model as shown in the other ``EmissionModel`` docs.\n",
    "- Set up an \"emitter\" (e.g. a component or galaxy containing components) as shown in the [component docs](../galaxy_components/galaxy_components.rst).\n",
    "- Call the emitter's ``get_spectra`` method passing in your model.\n",
    "\n",
    "This will return the spectra/lines at the root of your emission model and store all generated spectra in the emitter.\n",
    "\n",
    "> Note that, in addition to fixing parameters as described above, we can also pass any parameter to ``get_spectra`` to override its value on the model/emitter for just that call.\n",
    "\n",
    "### Generating emissions for each particle\n",
    "\n",
    "To generate spectra for each particle in a component/galaxy we follow the exact same steps as above, but we need to set ``per_particle=True`` on our model. This can be done at model instantiation...\n"
   ]
  },
  {
   "cell_type": "code",
   "execution_count": null,
   "metadata": {},
   "outputs": [],
   "source": [
    "# Create a model for per particle emission\n",
    "total = TotalEmission(\n",
    "    grid=grid,\n",
    "    label=\"total\",\n",
    "    dust_curve=PowerLaw(slope=-1),\n",
    "    per_particle=True,\n",
    ")\n",
    "total.plot_emission_tree()"
   ]
  },
  {
   "cell_type": "markdown",
   "metadata": {},
   "source": [
    "Or by using the ``set_per_particle`` method on the model. This will set the model it is called from and any child models to generate spectra for each particle in the emitter. Below we'll demonstrate this by making every model in the ``total`` model we made above to be integrated (``per_particle=False``) and then set some of the children to be per particle."
   ]
  },
  {
   "cell_type": "code",
   "execution_count": null,
   "metadata": {},
   "outputs": [],
   "source": [
    "total.set_per_particle(False)\n",
    "total[\"reprocessed\"].set_per_particle(True)\n",
    "total[\"escaped\"].set_per_particle(True)\n",
    "print(total)\n",
    "total.plot_emission_tree()"
   ]
  },
  {
   "cell_type": "markdown",
   "metadata": {},
   "source": [
    "Notice how now the ``\"total\"`` and ``\"attenuated\"`` models don't mention per particle emission while all others (which are children of ``\"reprocessed\"``) have ``Per particle emission: True`` in their summary.\n",
    "\n",
    "When ``per_particle=True`` the model will generate a spectrum for each particle in the component/galaxy, for each individual model in your ``EmissionModel``, and store these in the ``particle_spectra`` attribute. Note that integrated spectra will automatically be generated too and will be stored in the ``spectra`` attribute."
   ]
  }
 ],
 "metadata": {},
 "nbformat": 4,
 "nbformat_minor": 2
}
