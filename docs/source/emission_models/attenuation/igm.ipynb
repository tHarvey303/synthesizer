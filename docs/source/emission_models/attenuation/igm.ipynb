{
 "cells": [
  {
   "cell_type": "markdown",
   "metadata": {},
   "source": [
    "# Intergalactic Medium Absorption\n",
    "\n",
    "Neutral hydrogen in the intergalactic medium (IGM) attenuates the light from distant galaxies, even after reionisation.\n",
    "Synthesizer provides three analytic forms for this IGM absorption: ``Madau96``, ``Inoue14``, and ``Asada25``.\n",
    "\n",
    "The ``Madau96`` model is based on [Madau et al. (1996)](https://ui.adsabs.harvard.edu/abs/1997ApJ...475..429M/abstract), and assumes a power-law relationship between the absorption and the redshift.\n",
    "\n",
    "The ``Inoue14`` model is based on [Inoue et al. (2014)](https://ui.adsabs.harvard.edu/abs/2014MNRAS.442.1805I/abstract), and includes the effects of the Lyman-$\\alpha$ forest and Lyman--limit systems.\n",
    "\n",
    "The ``Asada25`` model is based on [Asada et al. 2025](https://iopscience.iop.org/article/10.3847/2041-8213/adc388), and extends the ``Inoue14`` model by including additional Circumgalactic Medium (CGM) absorption at high redshifts (z>6). This model uses the Inoue+14 IGM prescription with an additional Lyα damping wing component calibrated from high-redshift observations.\n",
    "\n",
    "## Plotting the transmission curves\n",
    "\n",
    "To simply visualize the transmission curves, we can simply instantiate the IGM class and call the `plot_transmission` method, passing our desired redshift and wavelength array (in Angstroms)."
   ]
  },
  {
   "cell_type": "code",
   "execution_count": null,
   "metadata": {},
   "outputs": [],
   "source": [
    "import numpy as np\n",
    "from unyt import angstrom\n",
    "\n",
    "from synthesizer.emission_models.attenuation import Asada25, Inoue14, Madau96\n",
    "\n",
    "madau = Madau96()\n",
    "inoue = Inoue14()\n",
    "asada = Asada25()\n",
    "\n",
    "# Define redshift and wavelength range\n",
    "redshift = 5.0\n",
    "lams = np.logspace(3, 4, 10000) * angstrom\n",
    "\n",
    "fig, ax = madau.plot_transmission(redshift, lams)\n",
    "_, _ = inoue.plot_transmission(redshift, lams, fig=fig, ax=ax, show=False)\n",
    "_, _ = asada.plot_transmission(redshift, lams, fig=fig, ax=ax, show=False)\n",
    "ax.axvline(\n",
    "    x=1216 * (1 + redshift), label=\"Lyman-break\", ls=\"dashed\", color=\"grey\"\n",
    ")\n",
    "ax.legend()\n",
    "ax.grid(ls=\"dotted\", alpha=0.5)"
   ]
  },
  {
   "cell_type": "markdown",
   "metadata": {},
   "source": [
    "Notice that we have passed the ``fig`` and ``ax`` to get all models on the same plot. This can be done with all of Synthesizer's plotting methods.\n",
    "\n",
    "The ``Asada25`` model becomes particularly important at high redshifts (z>6). Let's compare the models at z=7:"
   ]
  },
  {
   "cell_type": "code",
   "execution_count": null,
   "metadata": {},
   "outputs": [],
   "source": [
    "# Compare at high redshift where CGM effects become important\n",
    "redshift_high = 7.0\n",
    "lams_high = np.logspace(3, 4.2, 10000) * angstrom\n",
    "\n",
    "fig, ax = inoue.plot_transmission(redshift_high, lams_high)\n",
    "_, _ = asada.plot_transmission(\n",
    "    redshift_high, lams_high, fig=fig, ax=ax, show=False\n",
    ")\n",
    "ax.axvline(\n",
    "    x=1216 * (1 + redshift_high),\n",
    "    label=\"Lyman-alpha\",\n",
    "    ls=\"dashed\",\n",
    "    color=\"grey\",\n",
    ")\n",
    "ax.legend()\n",
    "ax.grid(ls=\"dotted\", alpha=0.5)\n",
    "ax.set_title(f\"IGM transmission at z={redshift_high}\")"
   ]
  },
  {
   "cell_type": "markdown",
   "metadata": {},
   "source": [
    "## Using the IGM models for attenuation\n",
    "\n",
    "In reality most of the time you will not be working with the IGM models directly, but rather using them to attenuate your spectra. This is done automatically when a ``Sed`` (docs [here](../../emissions/emission_objects/sed_example.ipynb)) is converted to fluxes, all you need to do is pass the desired (uninstatiated) IGM model to ``get_fnu``. \n",
    "\n",
    "Below we will use the ``Madau96`` model to attenuate a spectrum extracted from a ``Grid`` (docs [here](../../emission_grids/grids.rst))."
   ]
  },
  {
   "cell_type": "code",
   "execution_count": null,
   "metadata": {},
   "outputs": [],
   "source": [
    "from astropy.cosmology import Planck18 as cosmo\n",
    "\n",
    "from synthesizer.grid import Grid\n",
    "\n",
    "grid_name = \"test_grid\"\n",
    "grid = Grid(grid_name)\n",
    "\n",
    "log10age = 6.0  # log10(age/yr)\n",
    "metallicity = 0.01\n",
    "grid_point = grid.get_grid_point(log10ages=log10age, metallicity=metallicity)\n",
    "sed = grid.get_sed_at_grid_point(grid_point, spectra_type=\"transmitted\")\n",
    "sed.lnu *= 1e8  # multiply initial stellar mass\n",
    "\n",
    "# Compute the flux in the presence of IGM attenuation\n",
    "sed.get_fnu(cosmo=cosmo, z=redshift, igm=Madau96)"
   ]
  },
  {
   "cell_type": "markdown",
   "metadata": {},
   "source": [
    "Below we plot the spectra produced when assuming each of the models for IGM attenuation:"
   ]
  },
  {
   "cell_type": "code",
   "execution_count": null,
   "metadata": {},
   "outputs": [],
   "source": [
    "# Plot the intrinsic and observed SED\n",
    "fig, ax = sed.plot_observed_spectra(\n",
    "    figsize=(6, 6), show=False, label=\"Observed SED (Madau 1996)\"\n",
    ")\n",
    "sed.get_fnu(cosmo=cosmo, z=redshift, igm=Inoue14)\n",
    "_, _ = sed.plot_observed_spectra(\n",
    "    fig=fig,\n",
    "    ax=ax,\n",
    "    show=False,\n",
    "    label=\"Observed SED (Inoue 2014)\",\n",
    "    xlimits=(5000, 20000),\n",
    "    ylimits=(10, 600),\n",
    ")\n",
    "sed.get_fnu(cosmo=cosmo, z=redshift, igm=Asada25)\n",
    "_, _ = sed.plot_observed_spectra(\n",
    "    fig=fig,\n",
    "    ax=ax,\n",
    "    show=False,\n",
    "    label=\"Observed SED (Asada 2025)\",\n",
    "    xlimits=(5000, 20000),\n",
    "    ylimits=(10, 600),\n",
    ")\n",
    "ax.axvline(\n",
    "    x=1216 * (1 + redshift), label=\"Lyman-break\", ls=\"dashed\", color=\"grey\"\n",
    ")\n",
    "ax.legend(framealpha=0.3)\n",
    "ax.grid(ls=\"dotted\", alpha=0.5)\n",
    "ax.set_yscale(\"linear\")"
   ]
  },
  {
   "cell_type": "markdown",
   "metadata": {},
   "source": [
    "## Customizing the Asada25 model\n",
    "\n",
    "The ``Asada25`` model allows customization of the sigmoid parameters that control the CGM HI column density evolution. You can also disable the CGM component to recover the Inoue+14 behavior:"
   ]
  },
  {
   "cell_type": "code",
   "execution_count": null,
   "metadata": {},
   "outputs": [],
   "source": [
    "# Create Asada25 models with different settings\n",
    "asada_default = Asada25()  # Default parameters\n",
    "asada_no_cgm = Asada25(add_cgm=False)  # Without CGM (equivalent to Inoue14)\n",
    "asada_custom = Asada25(\n",
    "    sigmoid_params=(4.0, 2.0, 19.0)\n",
    ")  # Custom sigmoid parameters\n",
    "\n",
    "# Compare at z=8 where CGM effects are strongest\n",
    "z_test = 8.0\n",
    "lams_test = np.logspace(3, 4, 10000) * angstrom\n",
    "\n",
    "fig, ax = asada_default.plot_transmission(z_test, lams_test)\n",
    "_, _ = asada_no_cgm.plot_transmission(\n",
    "    z_test, lams_test, fig=fig, ax=ax, show=False\n",
    ")\n",
    "_, _ = asada_custom.plot_transmission(\n",
    "    z_test, lams_test, fig=fig, ax=ax, show=False\n",
    ")\n",
    "ax.set_title(f\"Asada25 model variations at z={z_test}\")\n",
    "ax.legend()\n",
    "ax.grid(ls=\"dotted\", alpha=0.5)"
   ]
  }
 ],
 "metadata": {},
 "nbformat": 4,
 "nbformat_minor": 2
}
