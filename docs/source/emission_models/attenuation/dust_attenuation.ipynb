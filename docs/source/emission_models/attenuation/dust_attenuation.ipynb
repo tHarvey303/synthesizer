{
 "cells": [
  {
   "cell_type": "markdown",
   "metadata": {},
   "source": [
    "# Dust Attenuation Curves\n",
    "\n",
    "We implement a whole suite of different attenuation curves in synthesizer, including the following:\n",
    "\n",
    "- ``PowerLaw``: A power-law attenuation curve.\n",
    "- ``Calzetti2000``: The [Calzetti (Calzetti et al. 2000)](https://ui.adsabs.harvard.edu/abs/2000ApJ...533..682C/abstract) attenuation curve (with an optional UV bump from [Noll et al. 2009](https://ui.adsabs.harvard.edu/abs/2009A%26A...507.1793N/abstract)).\n",
    "- ``MWN18``: A Milky Way attenuation curve, defined in [Narayanan et al. 2018](https://ui.adsabs.harvard.edu/abs/2018ApJ...869...70N/abstract).\n",
    "- ``GrainsWD01``: A dust grain attenuation curve from [Weingarter and Draine 2001](https://ui.adsabs.harvard.edu/abs/2001ApJ...548..296W/abstract) with models for the Milky Way, LMC, and SMC (and more defined in WD01).\n",
    "- ``ParametricLi08``: A parametric and empirically derived attenuation curve implemented in [Li et al. 2008](https://ui.adsabs.harvard.edu/abs/2008arXiv0808.4123L/abstract), including parameters from [Markov et al. 2023](https://ui.adsabs.harvard.edu/abs/2023A%26A...679A..12M/abstract) and [Markov et al. 2024](https://ui.adsabs.harvard.edu/abs/2024arXiv240205996M/abstract).\n",
    "\n",
    "These attenuation curves can be instantiated directly, or attached to an ``EmissionModel`` to be used in the generation of complex spectra from a galaxy or galaxy component.\n",
    "\n",
    "Each model has unique arguments required at instantiation, but all have the same base methods, such as ``get_transmission`` (which requires an optical depth (``tau_v``) and a wavelength array). Below, we show how to instantiate each of these models and plot their transmission and attenuation curves.\n",
    "\n",
    "We first define a wavelength array up front:"
   ]
  },
  {
   "cell_type": "code",
   "execution_count": null,
   "metadata": {},
   "outputs": [],
   "source": [
    "import numpy as np\n",
    "from unyt import Angstrom\n",
    "\n",
    "lams = np.logspace(3.1, 4, 10000) * Angstrom"
   ]
  },
  {
   "cell_type": "markdown",
   "metadata": {},
   "source": [
    "## PowerLaw\n",
    "\n",
    "A ``PowerLaw`` only requires a slope to be defined.\n",
    "We can then use the in-built methods, e.g. ``get_transmission``, to return the transmission over our wavelength array values."
   ]
  },
  {
   "cell_type": "code",
   "execution_count": null,
   "metadata": {},
   "outputs": [],
   "source": [
    "from synthesizer.emission_models.attenuation import PowerLaw\n",
    "\n",
    "power_law = PowerLaw(-1.0)\n",
    "\n",
    "pl_trans = power_law.get_transmission(0.33, lams)"
   ]
  },
  {
   "cell_type": "markdown",
   "metadata": {},
   "source": [
    "Below we plot the transmission and attenuation curves."
   ]
  },
  {
   "cell_type": "code",
   "execution_count": null,
   "metadata": {},
   "outputs": [],
   "source": [
    "power_law.plot_transmission(0.33, lams, show=True)\n",
    "power_law.plot_attenuation(lams, show=True)"
   ]
  },
  {
   "cell_type": "markdown",
   "metadata": {},
   "source": [
    "## Calzetti2000\n",
    "\n",
    "The ``Calzetti2000`` model requires a slope (``slope``), central wavelength of the UV bump (``cent_lam``), amplitude of the UV bump (``ampl``), and the FWHM of the UV bump (``gamma``). These default to 0.0, 0.2175 microns, 0, and 0.035, respectively. We plot the transmission curve both with the defaults and a non-zero bump amplitude."
   ]
  },
  {
   "cell_type": "code",
   "execution_count": null,
   "metadata": {},
   "outputs": [],
   "source": [
    "from synthesizer.emission_models.attenuation import Calzetti2000\n",
    "\n",
    "no_bump = Calzetti2000()\n",
    "with_bump = Calzetti2000(ampl=10.0)\n",
    "\n",
    "fig, ax = no_bump.plot_attenuation(lams, show=False, label=\"No UV bump\")\n",
    "_, _ = with_bump.plot_attenuation(\n",
    "    lams, fig=fig, ax=ax, show=True, label=\"With UV bump\"\n",
    ")"
   ]
  },
  {
   "cell_type": "markdown",
   "metadata": {},
   "source": [
    "## MWN18\n",
    "\n",
    "The ``MWN18`` model loads a data file included with synthesizer; as such, it requires no arguments."
   ]
  },
  {
   "cell_type": "code",
   "execution_count": null,
   "metadata": {},
   "outputs": [],
   "source": [
    "from synthesizer.emission_models.attenuation import MWN18\n",
    "\n",
    "mwn18 = MWN18()\n",
    "\n",
    "_, _ = mwn18.plot_attenuation(lams, show=True)"
   ]
  },
  {
   "cell_type": "markdown",
   "metadata": {},
   "source": [
    "## GrainsWD01\n",
    "\n",
    "``GrainsWD01`` requires the model to be defined (either ``'MW'``, ``'LMC'``, or ``'SMC'``), and uses the [dust_extinction module](https://dust-extinction.readthedocs.io/en/latest/#) to load the appropriate model."
   ]
  },
  {
   "cell_type": "code",
   "execution_count": null,
   "metadata": {},
   "outputs": [],
   "source": [
    "from synthesizer.emission_models.attenuation import GrainsWD01\n",
    "\n",
    "mw = GrainsWD01(\"MW\")\n",
    "smc = GrainsWD01(\"SMC\")\n",
    "lmc = GrainsWD01(\"LMC\")\n",
    "\n",
    "fig, ax = mw.plot_attenuation(lams, show=False, label=\"MW\")\n",
    "_, _ = smc.plot_attenuation(lams, fig=fig, ax=ax, show=False, label=\"SMC\")\n",
    "_, _ = lmc.plot_attenuation(lams, fig=fig, ax=ax, show=False, label=\"LMC\")\n",
    "ax.grid(ls=\"dotted\", alpha=0.5)"
   ]
  },
  {
   "cell_type": "markdown",
   "metadata": {},
   "source": [
    "## ParametricLi08\n",
    "\n",
    "The ``ParametricLi08`` model requires the UV slope (``UV_slope``, default 1.0), the optical to Near Infrared slope (``OPT_NIR_slope``, default 1.0), the Far UV slope (``FUV_slope``, default 1.0), and a dimensionless parameter between 0 and 1 controlling the strength of the UV bump (``bump``, default 0.0). Alternatively, a model string can be passed to adopt a preset model (possible values: ``\"MW\"``, ``\"LMC\"``, ``\"SMC\"``, or ``Calzetti``)."
   ]
  },
  {
   "cell_type": "code",
   "execution_count": null,
   "metadata": {},
   "outputs": [],
   "source": [
    "from synthesizer.emission_models.attenuation import ParametricLi08\n",
    "\n",
    "mw_li08 = ParametricLi08(model=\"MW\")\n",
    "smc_li08 = ParametricLi08(model=\"SMC\")\n",
    "lmc_li08 = ParametricLi08(model=\"LMC\")\n",
    "calz_li08 = ParametricLi08(model=\"Calzetti\")\n",
    "\n",
    "fig, ax = mw_li08.plot_attenuation(lams, show=False, label=\"MW\")\n",
    "_, _ = smc_li08.plot_attenuation(lams, fig=fig, ax=ax, show=False, label=\"SMC\")\n",
    "_, _ = lmc_li08.plot_attenuation(lams, fig=fig, ax=ax, show=False, label=\"LMC\")\n",
    "_, _ = calz_li08.plot_attenuation(\n",
    "    lams, fig=fig, ax=ax, show=False, label=\"Calzetti\"\n",
    ")\n",
    "ax.grid(ls=\"dotted\", alpha=0.5)"
   ]
  },
  {
   "cell_type": "markdown",
   "metadata": {},
   "source": [
    "## Draine and Li Extinction curve from grain size distribution"
   ]
  },
  {
   "cell_type": "markdown",
   "metadata": {},
   "source": [
    "The ``DraineLi_graincurves`` model gives the extinction curve for different grain species (Graphite, Silicate, PAH) based on the dust-to-gas ratio in small and large grains. Currently only two grain sizes are implemented for graphite and silicate, with one grain size (small grains) for PAHs. Default grids can be downloaded from the synthesizer grids box folder. The default grids have 0.01um and 0.1um as the small and large grain bin centres, following a lognormal or MRN grain size distribution. Custom grids can be made by running the script\n",
    "in the grid-generation repo: ``grid-generation/src/synthesizer_grids/dust/create_dustextcurve_draine_li.py``\n",
    "\n",
    "The model requires one to specify the dust-to-gas ratio in any of the components, e.g. ``dtg_graphite_small``, ``dtg_graphite_large``, ``dtg_silicate_small``, ``dtg_silicate_large``, ``dtg_pahion`` or ``dtg_pahneutral``."
   ]
  },
  {
   "cell_type": "code",
   "execution_count": null,
   "metadata": {},
   "outputs": [],
   "source": [
    "import matplotlib.pyplot as plt\n",
    "from unyt import Msun, pc\n",
    "\n",
    "from synthesizer.units import DefaultUnits\n",
    "\n",
    "default_units = DefaultUnits()\n",
    "\n",
    "from synthesizer import GRID_DIR\n",
    "from synthesizer.emission_models.attenuation import DraineLiGrainCurves\n",
    "\n",
    "# Load our grid with the required properties\n",
    "grid_dir = GRID_DIR\n",
    "grid_name = \"dust_extcurve_draine_li_lognormal_asmall0p01_alarge0p1_apah0p005\"\n",
    "# define the input grain properties\n",
    "# we want to be using, this is in the\n",
    "# format grain: bin centers\n",
    "grain_dict = {\n",
    "    \"graphite\": [0.01, 0.1],\n",
    "    \"silicate\": [0.01, 0.1],\n",
    "    \"pahionised\": [0.005],\n",
    "    \"pahneutral\": [0.005],\n",
    "}\n",
    "dl_extcurve = DraineLiGrainCurves(\n",
    "    grid_name=grid_name, grid_dir=grid_dir, grain_dict=grain_dict\n",
    ")\n",
    "\n",
    "# Define some of the dust grain properties we want\n",
    "# to provide, the value has not much meaning other\n",
    "# than the fact that they give dust-to-gas ratios\n",
    "# in a reasonable range\n",
    "sigmalos_H = np.array([1.0]) * Msun / pc**2\n",
    "sigmalos_dust = {\n",
    "    \"graphite_a0p01um\": 0.002 * Msun / pc**2,\n",
    "    \"graphite_a0p1um\": 0.005 * Msun / pc**2,\n",
    "    \"silicate_a0p01um\": 0.002 * Msun / pc**2,\n",
    "    \"silicate_a0p1um\": 0.006 * Msun / pc**2,\n",
    "    \"pahionised_a0p005um\": 0.0005 * Msun / pc**2,\n",
    "    \"pahneutral_a0p005um\": 0.0005 * Msun / pc**2,\n",
    "}\n",
    "\n",
    "Alam_g_small = dl_extcurve.get_tau_at_lam(\n",
    "    lams, sigmalos_H, graphite_a0p01um=sigmalos_dust[\"graphite_a0p01um\"]\n",
    ")\n",
    "Alam_g_large = dl_extcurve.get_tau_at_lam(\n",
    "    lams,\n",
    "    sigmalos_H,\n",
    "    graphite_a0p1um=sigmalos_dust[\"graphite_a0p1um\"],\n",
    ")\n",
    "Alam_s_small = dl_extcurve.get_tau_at_lam(\n",
    "    lams,\n",
    "    sigmalos_H,\n",
    "    silicate_a0p01um=sigmalos_dust[\"silicate_a0p01um\"],\n",
    ")\n",
    "Alam_s_large = dl_extcurve.get_tau_at_lam(\n",
    "    lams,\n",
    "    sigmalos_H,\n",
    "    silicate_a0p1um=sigmalos_dust[\"silicate_a0p1um\"],\n",
    ")\n",
    "Alam_pahion = dl_extcurve.get_tau_at_lam(\n",
    "    lams,\n",
    "    sigmalos_H,\n",
    "    pahionised_a0p005um=sigmalos_dust[\"pahionised_a0p005um\"],\n",
    ")\n",
    "Alam_pahnuetral = dl_extcurve.get_tau_at_lam(\n",
    "    lams,\n",
    "    sigmalos_H,\n",
    "    pahneutral_a0p005um=sigmalos_dust[\"pahneutral_a0p005um\"],\n",
    ")\n",
    "\n",
    "Alam_tot = (\n",
    "    Alam_g_small\n",
    "    + Alam_g_large\n",
    "    + Alam_s_small\n",
    "    + Alam_s_large\n",
    "    + Alam_pahion\n",
    "    + Alam_pahnuetral\n",
    ")\n",
    "print(\"a\")\n",
    "Alam_tot_all = dl_extcurve.get_tau_at_lam(lams, sigmalos_H, **sigmalos_dust)\n",
    "\n",
    "Alam_tot_v = dl_extcurve.get_tau(lams, sigmalos_H, **sigmalos_dust)\n",
    "\n",
    "fig, ax = plt.subplots(figsize=(8, 5))\n",
    "\n",
    "ix = np.argmin(np.abs(lams - 5500 * Angstrom))\n",
    "ax.plot(lams, Alam_tot_all / Alam_tot_all[ix], color=\"orange\", label=\"Total\")\n",
    "ax.plot(\n",
    "    lams,\n",
    "    Alam_tot / Alam_tot[ix],\n",
    "    color=\"black\",\n",
    "    label=\"Total (Component wise)\",\n",
    "    lw=4,\n",
    "    alpha=0.5,\n",
    ")\n",
    "ax.plot(lams, Alam_tot_v, color=\"yellow\", label=\"Total (from tau_v)\")\n",
    "ax.plot(\n",
    "    lams,\n",
    "    Alam_g_small / Alam_g_small[ix],\n",
    "    color=\"grey\",\n",
    "    ls=\"dotted\",\n",
    "    label=\"Graphite small\",\n",
    ")\n",
    "ax.plot(\n",
    "    lams,\n",
    "    Alam_g_large / Alam_g_large[ix],\n",
    "    color=\"grey\",\n",
    "    ls=\"dashed\",\n",
    "    label=\"Graphite large\",\n",
    ")\n",
    "ax.plot(\n",
    "    lams,\n",
    "    Alam_s_small / Alam_s_small[ix],\n",
    "    color=\"red\",\n",
    "    ls=\"dotted\",\n",
    "    label=\"Silicate small\",\n",
    ")\n",
    "ax.plot(\n",
    "    lams,\n",
    "    Alam_s_large / Alam_s_large[ix],\n",
    "    color=\"red\",\n",
    "    ls=\"dashed\",\n",
    "    label=\"Silicate large\",\n",
    ")\n",
    "ax.plot(\n",
    "    lams,\n",
    "    Alam_pahion / Alam_pahion[ix],\n",
    "    color=\"green\",\n",
    "    ls=\"dotted\",\n",
    "    label=\"PAH ionised\",\n",
    ")\n",
    "ax.plot(\n",
    "    lams,\n",
    "    Alam_pahnuetral / Alam_pahnuetral[ix],\n",
    "    color=\"olive\",\n",
    "    ls=\"dotted\",\n",
    "    label=\"PAH neutral\",\n",
    ")\n",
    "\n",
    "from synthesizer.emission_models.attenuation import ParametricLi08\n",
    "\n",
    "MW_li08 = ParametricLi08(model=\"MW\")\n",
    "ax.plot(lams, MW_li08.get_tau(lam=lams), label=\"MW\")\n",
    "\n",
    "ax.set_xlim(1300, 10000)\n",
    "ax.set_ylim(0, 14)\n",
    "ax.set_ylabel(r\"A$_{\\lambda}$/A$_{V}$\", fontsize=12)\n",
    "ax.set_xlabel(r\"$\\lambda$/$\\AA$\", fontsize=12)\n",
    "ax.grid(ls=\"dotted\")\n",
    "ax.legend(ncols=2, fontsize=11)\n",
    "\n",
    "plt.show()"
   ]
  },
  {
   "cell_type": "markdown",
   "metadata": {},
   "source": [
    "## Varying Attenuation Law Parameters\n",
    "\n",
    "The parameters of an attenuation law (e.g. the ``slope`` of a ``PowerLaw``) can be varied on-the-fly when calculating the attenuation or transmission curves. This allows us to instantiate a single attenuation law object, and then vary its parameters as needed, e.g. for generating a population of galaxies with different attenuation law slopes.\n",
    "\n",
    "The way this works in practice is that we instantiate the attenuation law emission model as normal, but we override the parameters we want to vary with a string input, which will be the argument the code looks for on the emission model and emitter."
   ]
  },
  {
   "cell_type": "code",
   "execution_count": null,
   "metadata": {},
   "outputs": [],
   "source": [
    "from synthesizer.emission_models.attenuation import ParametricLi08\n",
    "\n",
    "dust_curve = ParametricLi08(\n",
    "    model=\"MW\",\n",
    "    OPT_NIR_slope=\"optical_slope\",\n",
    "    UV_slope=\"uv_slp\",\n",
    "    FUV_slope=None,\n",
    "    bump=\"bump_ampl\",\n",
    ")"
   ]
  },
  {
   "cell_type": "markdown",
   "metadata": {},
   "source": [
    "This emission model is not useable on its own, but when attached to a parent EmissionModel or emitter with the appropriate parameters, the parameters will be overridden on-the-fly when calculating the attenuation or transmission curves.\n",
    "\n",
    "In the below example, we instantiate a ``ParametricLi08`` attenuation law, but override the ``OPT_NIR_slope``, ``UV_slope``, and ``bump`` parameters with strings. When this attenuation law is attached to an emitter or emission model with these parameters, the values will be used instead of the defaults. If you set a parameter to ``None``, it will expect an override with the same name as the parameter (e.g. ``FUV_slope`` in this case)."
   ]
  },
  {
   "cell_type": "code",
   "execution_count": null,
   "metadata": {},
   "outputs": [],
   "source": [
    "from unyt import Msun, yr\n",
    "\n",
    "from synthesizer.emission_models import TotalEmission\n",
    "from synthesizer.grid import Grid\n",
    "from synthesizer.parametric import Stars\n",
    "\n",
    "grid = Grid(\"test_grid.hdf5\")\n",
    "\n",
    "stars = Stars(\n",
    "    log10ages=grid.log10ages,\n",
    "    metallicities=grid.log10metallicity,\n",
    "    sf_hist=1e6 * yr,\n",
    "    metal_dist=0.02,\n",
    "    initial_mass=1e8 * Msun,\n",
    "    optical_slope=-0.7,\n",
    "    uv_slp=3.0,\n",
    "    tau_v=1.0,\n",
    ")\n",
    "\n",
    "emergent = TotalEmission(\n",
    "    grid=grid, dust_curve=dust_curve, bump_ampl=10, FUV_slope=2.0\n",
    ")\n",
    "\n",
    "stars.get_spectra(emergent)\n",
    "\n",
    "stars.plot_spectra()"
   ]
  }
 ],
 "metadata": {},
 "nbformat": 4,
 "nbformat_minor": 2
}
