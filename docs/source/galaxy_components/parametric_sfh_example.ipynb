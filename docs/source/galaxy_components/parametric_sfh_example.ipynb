{
 "cells": [
  {
   "cell_type": "markdown",
   "id": "28f09d35",
   "metadata": {},
   "source": [
    "# Parametric Star Formation Histories"
   ]
  },
  {
   "cell_type": "markdown",
   "id": "d6e703b3",
   "metadata": {},
   "source": [
    "## Parametric SFH Models"
   ]
  },
  {
   "cell_type": "markdown",
   "id": "98efb4a5",
   "metadata": {},
   "source": [
    "All parametric SFH models in Synthesizer inherit from the `Common` SFH base class. This ensures a consistent interface and shared functionality across different SFH implementations. SFHs are typically dimensionless, representing the relative star formation rate over time. The overall normalization is handled by the stellar mass of the `Stars` component the SFH is associated with."
   ]
  },
  {
   "cell_type": "code",
   "execution_count": null,
   "id": "60370d88",
   "metadata": {},
   "outputs": [],
   "source": [
    "%load_ext autoreload\n",
    "%autoreload 2\n",
    "\n",
    "from unyt import yr\n",
    "\n",
    "from synthesizer.parametric import SFH"
   ]
  },
  {
   "cell_type": "markdown",
   "id": "e238f79d",
   "metadata": {},
   "source": [
    "### Constant SFH\n",
    "\n",
    "The simplest SFH model is the constant star formation history, which assumes a uniform star formation rate over time. This is controlled by minimum and maximum age parameters.\n"
   ]
  },
  {
   "cell_type": "code",
   "execution_count": null,
   "id": "1e30908e",
   "metadata": {},
   "outputs": [],
   "source": [
    "sfh = SFH.Constant(min_age=0 * yr, max_age=1e7 * yr)\n",
    "\n",
    "sfh.plot_sfh(t_range=(0, 2e7))"
   ]
  },
  {
   "cell_type": "markdown",
   "id": "89313f6d",
   "metadata": {},
   "source": [
    "### Gaussian SFH\n",
    "\n",
    "A Gaussian SFH models star formation as a Gaussian function over time, characterized by a mean age and standard deviation. This allows for modeling scenarios where star formation peaks at a certain epoch and tapers off."
   ]
  },
  {
   "cell_type": "code",
   "execution_count": null,
   "id": "97178437",
   "metadata": {},
   "outputs": [],
   "source": [
    "sfh = SFH.Gaussian(peak_age=5e8 * yr, sigma=1e8 * yr)\n",
    "\n",
    "sfh.plot_sfh(t_range=(0, 1e9))"
   ]
  },
  {
   "cell_type": "markdown",
   "id": "84431df3",
   "metadata": {},
   "source": [
    "Note that all SFHs have a seperate min_age and max_age parameter that define the valid age range for the SFH. Outside this range the SFH will return zero, which is useful for truncating SFHs.\n",
    "\n",
    "Here's an example of a Gaussian SFH with specified minimum and maximum ages:"
   ]
  },
  {
   "cell_type": "code",
   "execution_count": null,
   "id": "3d2a40bb",
   "metadata": {},
   "outputs": [],
   "source": [
    "sfh = SFH.Gaussian(\n",
    "    peak_age=5e8 * yr, sigma=1e8 * yr, min_age=4e8 * yr, max_age=5.5e8 * yr\n",
    ")\n",
    "sfh.plot_sfh(t_range=(0, 1e9))"
   ]
  },
  {
   "cell_type": "markdown",
   "id": "3093d2c4",
   "metadata": {},
   "source": [
    "### Exponential SFH\n",
    "\n",
    "An Exponential SFH models star formation as an exponential function over time, characterized by a timescale parameter (tau). This allows for modelling scenarios where star formation either rises or declines exponentially.\n",
    "\n",
    "It is parameterized by:\n",
    "- `tau`: The e-folding timescale of the SFH. A positive value indicates an exponentially declining SFH, while a negative value indicates an exponentially rising SFH.\n",
    "- `min_age`: The minimum age for which the SFH is defined.\n",
    "- `max_age`: The maximum age for which the SFH is defined."
   ]
  },
  {
   "cell_type": "markdown",
   "id": "653e3626",
   "metadata": {},
   "source": [
    "Postive tau (declining SFH) example:"
   ]
  },
  {
   "cell_type": "code",
   "execution_count": null,
   "id": "8b27feb3",
   "metadata": {},
   "outputs": [],
   "source": [
    "sfh = SFH.Exponential(tau=4e7 * yr, max_age=5e8 * yr)\n",
    "sfh.plot_sfh(t_range=(0, 1e9))"
   ]
  },
  {
   "cell_type": "markdown",
   "id": "b7059223",
   "metadata": {},
   "source": [
    "Negative tau (rising SFH) example:"
   ]
  },
  {
   "cell_type": "code",
   "execution_count": null,
   "id": "bd35cad3",
   "metadata": {},
   "outputs": [],
   "source": [
    "sfh = SFH.Exponential(tau=-4e7 * yr, max_age=5e8 * yr)\n",
    "sfh.plot_sfh(t_range=(0, 1e9))"
   ]
  },
  {
   "cell_type": "markdown",
   "id": "24436d4f",
   "metadata": {},
   "source": [
    "### Truncated Exponential SFH\n",
    "\n",
    "This is an alias for an `ExponentialSFH`, as all SFH classes have `min_age` and `max_age` parameters that define the valid age range for the SFH. Outside this range the SFH will return zero."
   ]
  },
  {
   "cell_type": "markdown",
   "id": "84a8a668",
   "metadata": {},
   "source": [
    "### Declining Exponential SFH\n",
    "\n",
    "This is also an alias for an `ExponentialSFH` with a positive `tau` value, as all SFH classes have `min_age` and `max_age` parameters that define the valid age range for the SFH. Outside this range the SFH will return zero."
   ]
  },
  {
   "cell_type": "markdown",
   "id": "796cf26c",
   "metadata": {},
   "source": [
    "### Delayed Exponential SFH\n",
    "\n",
    "A Delayed Exponential SFH models star formation as a function that rises linearly to a peak and then declines exponentially. This is useful for scenarios where star formation ramps up before declining.\n",
    "\n",
    "It is parameterized by:\n",
    "- `tau`: The e-folding timescale of the SFH.\n",
    "- `min_age`: The minimum age for which the SFH is defined.\n",
    "- `max_age`: The maximum age for which the SFH is defined."
   ]
  },
  {
   "cell_type": "code",
   "execution_count": null,
   "id": "d8adfe04",
   "metadata": {},
   "outputs": [],
   "source": [
    "sfh = SFH.DelayedExponential(tau=4e8 * yr, max_age=9e8 * yr)\n",
    "\n",
    "sfh.plot_sfh(t_range=(0, 1e9))"
   ]
  },
  {
   "cell_type": "markdown",
   "id": "13fff809",
   "metadata": {},
   "source": [
    "Negative tau will produce a rising SFH."
   ]
  },
  {
   "cell_type": "code",
   "execution_count": null,
   "id": "18fb50f6",
   "metadata": {},
   "outputs": [],
   "source": [
    "sfh = SFH.DelayedExponential(tau=-4e7 * yr, max_age=9e8 * yr)\n",
    "sfh.plot_sfh(t_range=(0, 1e9))"
   ]
  },
  {
   "cell_type": "markdown",
   "id": "5c05db5a",
   "metadata": {},
   "source": [
    "### Lognormal SFH\n",
    "\n",
    "A Lognormal SFH models star formation as a lognormal function over time, characterized by a mean and standard deviation in logarithmic space. This allows for modeling scenarios where star formation has a skewed distribution over time.\n",
    "\n",
    "It is parameterized by:\n",
    "- `tau`: A dimensionless parameter that controls the width of the lognormal distribution.\n",
    "- `peak_age`: The age at which the SFH peaks.\n",
    "- `min_age`: The minimum age for which the SFH is defined.\n",
    "- `max_age`: The maximum age for which the SFH is defined.\n",
    "\n",
    "Higher tau values result in broader SFHs, while lower tau values produce narrower SFHs. Note that `max_age` should be greater than `peak_age` to ensure the SFH is defined over the desired range.\n",
    "\n",
    "`max_age` is a required parameter which will scale the SFH."
   ]
  },
  {
   "cell_type": "code",
   "execution_count": null,
   "id": "290bb54f",
   "metadata": {},
   "outputs": [],
   "source": [
    "sfh = SFH.LogNormal(tau=0.3, peak_age=5e8 * yr, max_age=1e9 * yr)\n",
    "\n",
    "sfh.plot_sfh(t_range=(0, 1e9))"
   ]
  },
  {
   "cell_type": "markdown",
   "id": "f8459287",
   "metadata": {},
   "source": [
    "Broader tau example:"
   ]
  },
  {
   "cell_type": "code",
   "execution_count": null,
   "id": "a901e201",
   "metadata": {},
   "outputs": [],
   "source": [
    "sfh = SFH.LogNormal(tau=2, peak_age=5e8 * yr, max_age=1e9 * yr)\n",
    "\n",
    "sfh.plot_sfh(t_range=(0, 1e9))"
   ]
  },
  {
   "cell_type": "markdown",
   "id": "24139a05",
   "metadata": {},
   "source": [
    "### Double Power Law SFH\n",
    "\n",
    "A Double Power Law SFH models star formation as a piecewise function with two power-law segments, allowing for more flexibility in capturing the evolution of star formation rates over time. It is characterized by a break age, which separates the two power-law regimes.\n",
    "\n",
    "It is parameterized by:\n",
    "- `peak_age`: The age at which the SFH transitions between the two power-law segments.\n",
    "- `alpha`: The power-law index for the rising segment of the SFH.\n",
    "- `beta`: The power-law index for the declining segment of the SFH.\n",
    "- `min_age`: The minimum age for which the SFH is defined.\n",
    "- `max_age`: The maximum age for which the SFH is defined.\n",
    "\n",
    "Note that `alpha` should be positive to ensure a rising SFH before the peak, and `beta` should be negative to ensure a declining SFH after the peak. `max_age` should be greater than `peak_age` to ensure the SFH is defined over the desired range."
   ]
  },
  {
   "cell_type": "code",
   "execution_count": null,
   "id": "00a16b29",
   "metadata": {},
   "outputs": [],
   "source": [
    "sfh = SFH.DoublePowerLaw(\n",
    "    peak_age=5e8 * yr, alpha=10, beta=-10, max_age=1e9 * yr\n",
    ")\n",
    "\n",
    "sfh.plot_sfh(t_range=(0, 1e9))"
   ]
  },
  {
   "cell_type": "markdown",
   "id": "7c734fbb",
   "metadata": {},
   "source": [
    "Modelling a recently quenched galaxy with a sharp peak:"
   ]
  },
  {
   "cell_type": "code",
   "execution_count": null,
   "id": "cea3b9bc",
   "metadata": {},
   "outputs": [],
   "source": [
    "sfh = SFH.DoublePowerLaw(peak_age=5e8 * yr, alpha=1, beta=-1, max_age=8e9 * yr)\n",
    "\n",
    "sfh.plot_sfh(t_range=(0, 8e9))"
   ]
  },
  {
   "cell_type": "markdown",
   "id": "92919f66",
   "metadata": {},
   "source": [
    "## Drawing SFHs from priors\n",
    "\n",
    "All parametric SFH models have an `init_from_prior` class method that allows users to generate random SFH realizations based on specified prior ranges. For parametric models this is currently limited to uniform priors on each parameter.\n",
    "\n",
    "This is set by passing in tuples defining parameter ranges for each model parameter. For example, to generate a Constant SFH with a minimum age between 0 and 10 Myr, and a maximum age between 10 Myr and 100 Myr, you would do the following:"
   ]
  },
  {
   "cell_type": "code",
   "execution_count": null,
   "id": "606dabb5",
   "metadata": {},
   "outputs": [],
   "source": [
    "sfh = SFH.Constant.init_from_prior(\n",
    "    min_age=(0, 1e7) * yr, max_age=(1e7, 1e8) * yr\n",
    ")\n",
    "\n",
    "sfh.plot_sfh(t_range=(0, 1.4e8))"
   ]
  },
  {
   "cell_type": "markdown",
   "id": "eea68ad0",
   "metadata": {},
   "source": [
    "Note that for parameters that are not specified as ranges, you can provide fixed values directly."
   ]
  },
  {
   "cell_type": "code",
   "execution_count": null,
   "id": "99565c36",
   "metadata": {},
   "outputs": [],
   "source": [
    "sfh = SFH.Constant.init_from_prior(min_age=0 * yr, max_age=(1e7, 1e8) * yr)\n",
    "\n",
    "sfh.plot_sfh(t_range=(0, 1.4e8))"
   ]
  },
  {
   "cell_type": "markdown",
   "id": "999b03c5",
   "metadata": {},
   "source": [
    "Here's a more complex example using the Double Power Law SFH:"
   ]
  },
  {
   "cell_type": "code",
   "execution_count": null,
   "id": "2c3fccd5",
   "metadata": {},
   "outputs": [],
   "source": [
    "sfh = SFH.DoublePowerLaw.init_from_prior(\n",
    "    peak_age=(1e7, 1e9) * yr,\n",
    "    alpha=(0.1, 20),\n",
    "    beta=(-20, -0.1),\n",
    "    min_age=0 * yr,\n",
    "    max_age=2e9 * yr,\n",
    ")\n",
    "\n",
    "sfh.plot_sfh(t_range=(0, 1.4e9))"
   ]
  },
  {
   "cell_type": "markdown",
   "id": "b6da6435",
   "metadata": {},
   "source": [
    "## 'Non-parametric' SFH Models\n",
    "\n",
    "The next section will cover non-parametric SFH models, which allow for more complex and flexible representations of star formation histories without relying on predefined functional forms.\n",
    "\n",
    "These star formation history models are generally powerful because they can capture a wide range of SFH shapes, including bursts, quenching events, and other complex behaviors that may not be well-represented by simple parametric forms. They are typically controlled by one or more hyperparameters that influence the overall shape and smoothness of the SFH. These hyperparameters are not set if the SFH is set directly by the user, but these SFHs all have a method to draw samples from the prior defined by the hyperparameters.\n",
    "\n",
    "This method is called `init_from_prior` and can be used to generate random SFH realizations based on the specified hyperparameters. This is particularly useful for exploring the range of possible SFHs that are consistent with the chosen model and its priors."
   ]
  },
  {
   "cell_type": "markdown",
   "id": "835e41ab",
   "metadata": {},
   "source": [
    "### Dense Basis SFH\n",
    "\n",
    "The Dense Basis SFH (Iyer et al. 2017, 2019) is a Gaussian Process based SFH model that uses combinations of Gaussian functions to represent complex star formation histories. This approach allows for a flexible and data-driven representation of SFHs, capturing a wide range of possible star formation scenarios. See [here](https://dense-basis.readthedocs.io) for more details.\n",
    "\n",
    "The Dense Basis SFH is modelled by a overall stellar mass normalization, a recent SFR, and a set of N lookback times at which the galaxy has formed N equal mass fractions. \n",
    "\n",
    "It is parameterized by:\n",
    "- `db_tuple`: A tuple defining the Dense Basis parameters.\n",
    "- `redshift`: The redshift at which the SFH is evaluated. This is required to calculate the age of the universe and properly scale the SFH.\n",
    "\n",
    "The `db_tuple` includes the following parameters in the specified order:\n",
    "\n",
    "1. total mass formed (in log10 solar masses). Note that this is not important for the SFH shape, as the overall normalization is handled by the `Stars` component.\n",
    "2. recent SFR (in log10 solar masses per year).\n",
    "3. Number of lookback times (N).\n",
    "4. N lookback times at which the galaxy has formed N equal mass fractions. These are scaled between 0 and 1, where 0 corresponds to the present day and 1 corresponds to the age of the universe at the specified redshift.\n",
    "\n",
    "\n",
    "\n",
    "Please cite Iyer et al. (2017, 2019) when using this SFH model in your work."
   ]
  },
  {
   "cell_type": "code",
   "execution_count": null,
   "id": "439577a8",
   "metadata": {},
   "outputs": [],
   "source": [
    "logmass = 10\n",
    "logsfr = 1\n",
    "nparams = 1\n",
    "frac_mass_formed = 0.9\n",
    "redshift = 1\n",
    "\n",
    "\n",
    "db_tuple = (logmass, logsfr, nparams, frac_mass_formed)\n",
    "sfh = SFH.DenseBasis(db_tuple, redshift=redshift)\n",
    "\n",
    "sfh.plot_sfh(t_range=(0, 3e9))"
   ]
  },
  {
   "cell_type": "markdown",
   "id": "e5be5ddb",
   "metadata": {},
   "source": [
    "Here's a recently quenched SFH, where we've specified 3 different lookback times for the equal mass fractions."
   ]
  },
  {
   "cell_type": "code",
   "execution_count": null,
   "id": "80d38acb",
   "metadata": {},
   "outputs": [],
   "source": [
    "logmass = 10\n",
    "logsfr = -2\n",
    "nparams = 3\n",
    "frac_mass_formed = (0.25, 0.5, 0.8)\n",
    "redshift = 1\n",
    "\n",
    "\n",
    "db_tuple = (logmass, logsfr, nparams, *frac_mass_formed)\n",
    "sfh = SFH.DenseBasis(db_tuple, redshift=redshift)\n",
    "\n",
    "sfh.plot_sfh(t_range=(0, 3e9))"
   ]
  },
  {
   "cell_type": "markdown",
   "id": "a662cc23",
   "metadata": {},
   "source": [
    "Now for all non-parametric SFH models we can use the `init_from_prior` method to generate random SFH realizations based on specified hyperparameters. This allows us to explore the range of possible SFHs that are consistent with the chosen model and its priors.\n",
    "\n",
    "For the DenseBasis SFH model, we specify a `tx_alpha` hyperparameter that controls the distribution of the lookback times. Higher values of `tx_alpha` will result in lookback times that are more evenly distributed, while lower values have more randomness, leading to more bursty SFHs.\n",
    "\n",
    "`tx_alpha` = 5.0 example:"
   ]
  },
  {
   "cell_type": "code",
   "execution_count": null,
   "id": "73e17c08",
   "metadata": {},
   "outputs": [],
   "source": [
    "sfh = SFH.DenseBasis.init_from_prior(\n",
    "    N_tx=3, log_mass=10, log_sfr=0.3, redshift=1, tx_alpha=5.0\n",
    ")\n",
    "\n",
    "sfh.plot_sfh(t_range=(0, 3e9))"
   ]
  },
  {
   "cell_type": "markdown",
   "id": "9fb5798f",
   "metadata": {},
   "source": [
    "`tx_alpha` = 1.0 example:"
   ]
  },
  {
   "cell_type": "code",
   "execution_count": null,
   "id": "c5bf7b23",
   "metadata": {},
   "outputs": [],
   "source": [
    "sfh = SFH.DenseBasis.init_from_prior(\n",
    "    N_tx=3, log_mass=10, log_sfr=0.3, redshift=1, tx_alpha=1.0\n",
    ")\n",
    "\n",
    "sfh.plot_sfh(t_range=(0, 3e9))"
   ]
  },
  {
   "cell_type": "markdown",
   "id": "ac6677a3",
   "metadata": {},
   "source": [
    "### Continuity SFH\n",
    "\n",
    "This SFH was introduced by Leja et al. (2019) and is a time-binned `non-parametric` SFH model that enforces continuity between adjacent time bins. This approach helps to produce smoother and more physically realistic star formation histories by penalizing abrupt changes in the star formation rate.\n",
    "\n",
    "The model is controlled by the SFR ratio between adjacent time bins, which are controlled by a Dirichlet prior. This encourages the SFH to vary smoothly over time, avoiding unphysical jumps in the star formation rate. \n",
    "\n",
    "The concentration parameter of the Dirichlet prior determines how strongly continuity is enforced. A higher concentration value results in a smoother SFH, while a lower value allows for more variability between time bins.\n",
    "\n",
    "This SFH is parameterized by:\n",
    "- `logsfr_ratios`: The logarithm of the SFR ratios between adjacent time bins. This is an array of length N-1, where N is the number of time bins.\n",
    "- `agebins`: The edges of the time bins in which the SFH is defined. This is a 2D array with shape (N, 2), where each row defines the start and end of a time bin.\n",
    "- `min_age`: The minimum age for which the SFH is defined.\n",
    "- `max_age`: The maximum age for which the SFH is defined.\n",
    "\n",
    "Please cite Leja et al. (2019) when using this SFH model in your work."
   ]
  },
  {
   "cell_type": "markdown",
   "id": "26aa4e09",
   "metadata": {},
   "source": [
    "Here's a recently rising SFH, with bins from 0-10 Myr, 10-30 Myr, 30-100 Myr and 100-500 Myr. Note that as we have specified the `logsfr_ratios` directly, the continuity prior is not applied here."
   ]
  },
  {
   "cell_type": "code",
   "execution_count": null,
   "id": "a03ab60c",
   "metadata": {},
   "outputs": [],
   "source": [
    "logsfr_ratios = [1, 0.3, 0.2]\n",
    "agebins = [[0, 1e7], [1e7, 3e7], [3e7, 1e8], [1e8, 5e8]] * yr\n",
    "sfh = SFH.Continuity(logsfr_ratios=logsfr_ratios, agebins=agebins)\n",
    "\n",
    "sfh.plot_sfh(t_range=(0, 5e8))"
   ]
  },
  {
   "cell_type": "markdown",
   "id": "dba7f3a6",
   "metadata": {},
   "source": [
    "Here's an example where we draw a random SFH from the continuity prior, using the same age bins as above."
   ]
  },
  {
   "cell_type": "code",
   "execution_count": null,
   "id": "fa8eef07",
   "metadata": {},
   "outputs": [],
   "source": [
    "sfh = SFH.Continuity.init_from_prior(agebins=agebins)\n",
    "sfh.plot_sfh(t_range=(0, 5e8))"
   ]
  },
  {
   "cell_type": "markdown",
   "id": "7a201123",
   "metadata": {},
   "source": [
    "Often called the 'bursty continuity' prior, if we change the concentration parameter of the Dirichlet prior from 2 to 0.3, we allow for more bursty SFHs with larger variations between adjacent time bins. Here's an example of such a bursty SFH drawn from the prior."
   ]
  },
  {
   "cell_type": "code",
   "execution_count": null,
   "id": "0caafa15",
   "metadata": {},
   "outputs": [],
   "source": [
    "sfh = SFH.Continuity.init_from_prior(agebins=agebins, scale=0.3)\n",
    "sfh.plot_sfh(t_range=(0, 5e8))"
   ]
  },
  {
   "cell_type": "markdown",
   "id": "291a711f",
   "metadata": {},
   "source": [
    "### ContinuityFlex SFH\n",
    "\n",
    "The ContinuityFlex SFH is an extension of the Continuity SFH model, which introduces specific agebins for young and old stellar populations, with intermediate agebins distributed logarithmically in between. \n",
    "\n",
    "The model is parameterized by:\n",
    "- `logsfr_ratios_young`: The logarithm of the SFR ratios between adjacent time bins for the young stellar population.\n",
    "- `logsfr_ratios_old`: The logarithm of the SFR ratios between adjacent time bins for the old stellar population.\n",
    "- `logsfr_ratios`: The logarithm of the SFR ratios between adjacent time bins for the intermediate agebins.\n",
    "- `fixed_young_bin`: A two component array defining the edges of the young stellar population age bin.\n",
    "- `fixed_old_bin`: A two component array defining the edges of the old stellar population age\n",
    "- `min_age`: The minimum age for which the SFH is defined.\n",
    "- `max_age`: The maximum age for which the SFH is defined."
   ]
  },
  {
   "cell_type": "markdown",
   "id": "1f5b6e7e",
   "metadata": {},
   "source": [
    "Here's an example of a Continuity SFH with specified SFR ratios and age bins:"
   ]
  },
  {
   "cell_type": "code",
   "execution_count": null,
   "id": "20539d19",
   "metadata": {},
   "outputs": [],
   "source": [
    "sfh = SFH.ContinuityFlex(\n",
    "    logsfr_ratio_young=-0.1,\n",
    "    logsfr_ratio_old=0.3,\n",
    "    logsfr_ratios=[0.4, 0.2, -0.2],\n",
    "    fixed_young_bin=[0, 1e7] * yr,\n",
    "    fixed_old_bin=[1e9, 7e9] * yr,\n",
    ")\n",
    "\n",
    "sfh.plot_sfh(t_range=(0, 5e9))"
   ]
  },
  {
   "cell_type": "markdown",
   "id": "2333ebd3",
   "metadata": {},
   "source": [
    "We can also draw random SFHs from the prior using the `init_from_prior` method. In this example, we specify 3 intermediate agebins between the fixed young and old bins."
   ]
  },
  {
   "cell_type": "code",
   "execution_count": null,
   "id": "a31fb223",
   "metadata": {},
   "outputs": [],
   "source": [
    "sfh = SFH.ContinuityFlex.init_from_prior(\n",
    "    N_flex_bins=3, fixed_young_bin=[0, 1e7] * yr, fixed_old_bin=[1e9, 7e9] * yr\n",
    ")\n",
    "\n",
    "\n",
    "sfh.plot_sfh(t_range=(0, 5e9))"
   ]
  },
  {
   "cell_type": "markdown",
   "id": "981af865",
   "metadata": {},
   "source": [
    "### ContinuityPSB SFH\n",
    "\n",
    "Introduced by Suess et al. 2021, the ContinuityPSB SFH is a variation of the Continuity SFH model that is specifically designed to capture the star formation histories of post-starburst galaxies. This model incorporates a burst of star formation followed by a rapid decline, which is characteristic of post-starburst galaxies.\n",
    "\n",
    "\n",
    "It uses a combination of fixed-width and flexible-boundary time bins to model the star formation history (SFH). A smoothness prior, based on a Student's t-distribution, is applied to the logarithmic ratios of SFRs in adjacent time bins.\n",
    "\n",
    "The time bins are structured from youngest to oldest as follows:\n",
    "1. A single \"youngest\" bin of variable width `tlast`.\n",
    "2. A set of `nflex` bins spanning the time from `tlast` to `tflex`.\n",
    "3. A set of `nfixed` bins spanning the time from `tflex` to `max_age`."
   ]
  },
  {
   "cell_type": "code",
   "execution_count": null,
   "id": "1ce63548",
   "metadata": {},
   "outputs": [],
   "source": [
    "sfh = SFH.ContinuityPSB(\n",
    "    logsfr_ratio_young=-0.5,\n",
    "    logsfr_ratio_old=[0.3, -0.2, 0.1],\n",
    "    logsfr_ratios=[0.4, -1.0, 0.2],\n",
    "    tlast=0.2e9 * yr,\n",
    "    tflex=2e9 * yr,\n",
    "    nflex=4,\n",
    "    nfixed=3,\n",
    "    max_age=13e9 * yr,\n",
    ")\n",
    "\n",
    "sfh.plot_sfh(t_range=(0, 5e9))"
   ]
  },
  {
   "cell_type": "markdown",
   "id": "1e9cda58",
   "metadata": {},
   "source": [
    "We can also draw random SFHs from the prior using the `init_from_prior` method."
   ]
  },
  {
   "cell_type": "code",
   "execution_count": null,
   "id": "662c82d6",
   "metadata": {},
   "outputs": [],
   "source": [
    "sfh = SFH.ContinuityPSB.init_from_prior()\n",
    "\n",
    "sfh.plot_sfh(t_range=(0, 5e9))"
   ]
  },
  {
   "cell_type": "markdown",
   "id": "e094eb57",
   "metadata": {},
   "source": [
    "### Dirichlet SFH\n",
    "\n",
    "The Dirichlet SFH is a time-binned `non-parametric` SFH model that uses a Dirichlet prior to define the star formation rates in each time bin. The Dirichlet prior uses independent Beta-distributed variables that are transformed to SFR fractions which sum to unity.\n"
   ]
  },
  {
   "cell_type": "code",
   "execution_count": null,
   "id": "b0880663",
   "metadata": {},
   "outputs": [],
   "source": [
    "sfh = SFH.Dirichlet(\n",
    "    z_fraction=[0.2, 0.5, 0.8],\n",
    "    agebins=[[0, 1e7], [1e7, 3e7], [3e7, 1e8], [1e8, 5e8]] * yr,\n",
    ")\n",
    "\n",
    "sfh.plot_sfh(t_range=(0, 6e8))"
   ]
  },
  {
   "cell_type": "markdown",
   "id": "e8c78ca1",
   "metadata": {},
   "source": [
    "Here we draw a random SFH from the Dirichlet prior with specified age bins and Beta distribution parameters. Note that we can specify the `loc` and `scale` parameters of the Beta distribution to control the shape of the prior."
   ]
  },
  {
   "cell_type": "code",
   "execution_count": null,
   "id": "06b3a262",
   "metadata": {},
   "outputs": [],
   "source": [
    "sfh = SFH.Dirichlet.init_from_prior(\n",
    "    agebins=[[0, 1e7], [1e7, 3e7], [3e7, 1e8], [1e8, 5e8]] * yr,\n",
    "    loc=1.0,\n",
    "    scale=0.3,\n",
    ")\n",
    "\n",
    "sfh.plot_sfh(t_range=(0, 6e8))"
   ]
  },
  {
   "cell_type": "markdown",
   "id": "d0f715c0",
   "metadata": {},
   "source": [
    "## Combined SFH\n",
    "\n",
    "The `CombinedSFH` class allows for the combination of multiple SFH models into a single composite SFH. This is useful for modeling complex star formation histories that may involve multiple distinct phases or components. As SFHs are normalized, the `CombinedSFH` accepts a weight for each component SFH to control their relative contributions to the overall SFH.\n",
    "\n"
   ]
  },
  {
   "cell_type": "markdown",
   "id": "267ee0d9",
   "metadata": {},
   "source": [
    "Here's an example of a Constant SFH combined with two Gaussian SFHs to create a more complex star formation history."
   ]
  },
  {
   "cell_type": "code",
   "execution_count": null,
   "id": "9339f6b7",
   "metadata": {},
   "outputs": [],
   "source": [
    "sfh1 = SFH.Constant(min_age=0 * yr, max_age=1e9 * yr)\n",
    "sfh2 = SFH.Gaussian(\n",
    "    peak_age=5e8 * yr, sigma=1e8 * yr, min_age=0 * yr, max_age=3e9 * yr\n",
    ")\n",
    "sfh3 = SFH.Gaussian(\n",
    "    peak_age=1e9 * yr, sigma=1e8 * yr, min_age=1.0001e9 * yr, max_age=3e9 * yr\n",
    ")\n",
    "\n",
    "combined_sfh = SFH.CombinedSFH(\n",
    "    sfhs=[sfh1, sfh2, sfh3],\n",
    "    weights=[1.0, 1.0, 1.0],\n",
    ")\n",
    "\n",
    "combined_sfh.plot_sfh(t_range=(0, 2e9))"
   ]
  }
 ],
 "metadata": {},
 "nbformat": 4,
 "nbformat_minor": 5
}
