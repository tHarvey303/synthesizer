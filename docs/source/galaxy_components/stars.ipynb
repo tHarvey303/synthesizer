{
 "cells": [
  {
   "cell_type": "markdown",
   "metadata": {},
   "source": [
    "# Stars"
   ]
  },
  {
   "cell_type": "markdown",
   "metadata": {},
   "source": [
    "## Particle Stars\n",
    "\n",
    "A `particle.Stars`object is the core object in synthesizer for modelling stellar distributions described by discrete particles (e.g. in hydrodynamical simulations).\n",
    "\n",
    "To initialise one you need equal length arrays describing the ages, metallicities and initial masses of your star particles. These can then be provided directly to the Stars object on initialisation. In the example below, we make some mock data (with units) and load these into a particle ``Stars`` object:"
   ]
  },
  {
   "cell_type": "code",
   "execution_count": null,
   "metadata": {},
   "outputs": [],
   "source": [
    "import numpy as np\n",
    "from unyt import Mpc, Msun, Myr\n",
    "\n",
    "from synthesizer.particle import Stars\n",
    "\n",
    "N = 100\n",
    "ages = np.random.rand(N) * 100 * Myr\n",
    "metallicities = np.random.rand(N) / 100\n",
    "initial_masses = np.ones(N) * 1e6 * Msun\n",
    "\n",
    "stars = Stars(\n",
    "    initial_masses=initial_masses,\n",
    "    ages=ages,\n",
    "    metallicities=metallicities,\n",
    ")"
   ]
  },
  {
   "cell_type": "markdown",
   "metadata": {},
   "source": [
    "The provided ages, metallicities and initial masses of the star particles describe the star formation and metal enrichment (SFZH) history. Some basic statistics of this object can be viewed by:"
   ]
  },
  {
   "cell_type": "code",
   "execution_count": null,
   "metadata": {},
   "outputs": [],
   "source": [
    "print(stars)"
   ]
  },
  {
   "cell_type": "markdown",
   "metadata": {},
   "source": [
    "But more informatively this can be visualised in Synthesizer by calling the ``get_sfzh`` method, which will assign the star particles to a SFZH grid. This can be an arbitrary grid, but here we will use the ``Grid`` object's axes."
   ]
  },
  {
   "cell_type": "code",
   "execution_count": null,
   "metadata": {},
   "outputs": [],
   "source": [
    "from synthesizer.grid import Grid\n",
    "\n",
    "grid_name = \"test_grid\"\n",
    "\n",
    "grid = Grid(grid_name)\n",
    "\n",
    "sfzh = stars.get_sfzh(grid.log10age, grid.metallicity)\n",
    "sfzh.plot_sfzh()"
   ]
  },
  {
   "cell_type": "markdown",
   "metadata": {},
   "source": [
    "You can also calculate (with ``get_*`` methods) or plot (with ``plot_*`` methods) the star formation history (SFH) and metallicity distribution (ZD) in isolation."
   ]
  },
  {
   "cell_type": "code",
   "execution_count": null,
   "metadata": {},
   "outputs": [],
   "source": [
    "stars.plot_sfh(grid.log10age)\n",
    "stars.plot_metal_dist(grid.metallicity)"
   ]
  },
  {
   "cell_type": "markdown",
   "metadata": {},
   "source": [
    "By providing a `Grid` to the `Stars` object one can generate the stellar emission.\n",
    "This can include the integrated SED (see `Sed` [docs](../emissions/emission_objects/sed_example.ipynb)), line emission (see `line` [docs](../emissions/lines/galaxy_lines.ipynb)), as well as the per--particle SED and line luminosity / equivalent widths.\n",
    "\n",
    "### Optional arguments\n",
    "\n",
    "Any component can take arbitrary extra arguments. Some of these are pre-defined kwargs (e.g. ``coordinates``, ``redshift``, ``current_masses`` etc.), but any additional ``**kwargs`` will be unpacked and attached to the component instances (here a ``Stars`` instance). This is particularly useful when working with emission models that require component level attributes (e.g. particle specific optical depths)."
   ]
  },
  {
   "cell_type": "code",
   "execution_count": null,
   "metadata": {},
   "outputs": [],
   "source": [
    "tau_v = np.random.rand(N)\n",
    "coordinates = np.random.normal(50, 0.005, (N, 3)) * Mpc\n",
    "centre = np.array([50, 50, 50]) * Mpc\n",
    "redshift = 5\n",
    "\n",
    "stars = Stars(\n",
    "    initial_masses=initial_masses,\n",
    "    ages=ages,\n",
    "    metallicities=metallicities,\n",
    "    # Pre defined Quantitys\n",
    "    coordinates=coordinates,\n",
    "    centre=centre,\n",
    "    # Optional argument\n",
    "    redshift=redshift,\n",
    "    current_masses=initial_masses - (np.random.rand(N) * 1e6 * Msun),\n",
    "    # Arbitrary kwarg for modelling\n",
    "    tau_v=tau_v,\n",
    ")\n",
    "print(stars)"
   ]
  },
  {
   "cell_type": "markdown",
   "metadata": {},
   "source": [
    "### Computing characteristics radii\n",
    "\n",
    "Characteristic radii can be computed for the stellar particle distribution. We can either calculate the half-mass radius."
   ]
  },
  {
   "cell_type": "code",
   "execution_count": null,
   "metadata": {},
   "outputs": [],
   "source": [
    "r = stars.get_half_mass_radius()\n",
    "print(r)"
   ]
  },
  {
   "cell_type": "markdown",
   "metadata": {},
   "source": [
    "Or use an aribtrary attribute for the radius weight. Here we'll use the optical depth for a \"half tau_V radius\"."
   ]
  },
  {
   "cell_type": "code",
   "execution_count": null,
   "metadata": {},
   "outputs": [],
   "source": [
    "r = stars.get_attr_radius(\"tau_v\")\n",
    "print(r)"
   ]
  },
  {
   "cell_type": "markdown",
   "metadata": {},
   "source": [
    "We can also compute radii for different fractions by passing the fraction we want to calculate a radius for."
   ]
  },
  {
   "cell_type": "code",
   "execution_count": null,
   "metadata": {},
   "outputs": [],
   "source": [
    "r20 = stars.get_attr_radius(\"masses\", frac=0.2)\n",
    "r80 = stars.get_attr_radius(\"masses\", frac=0.8)\n",
    "print(r20, r80)"
   ]
  },
  {
   "cell_type": "markdown",
   "metadata": {},
   "source": [
    "We can also calculate characteristic light radii from photometry. See the [photometry](../observables/photometry/photometry.rst) documentation for more details.\n",
    "\n",
    "### Getting weighted attributes\n",
    "\n",
    "We can get weighted attributes from any particle object using the ``get_weighted_attr`` method. This takes the name of an attribute to weight and either the name of an attribute to use for a weight or an array of weights. \n"
   ]
  },
  {
   "cell_type": "code",
   "execution_count": null,
   "metadata": {},
   "outputs": [],
   "source": [
    "print(stars.get_weighted_attr(\"metallicities\", \"initial_masses\"))\n",
    "print(stars.get_weighted_attr(\"metallicities\", stars.masses))\n",
    "print(stars.get_weighted_attr(\"log10metallicities\", stars.masses))"
   ]
  },
  {
   "cell_type": "markdown",
   "metadata": {},
   "source": [
    "In addition to this generic method we also provide some pre-defined methods for common attributes, shown below."
   ]
  },
  {
   "cell_type": "code",
   "execution_count": null,
   "metadata": {},
   "outputs": [],
   "source": [
    "print(stars.get_mass_weighted_age())\n",
    "print(stars.get_mass_weighted_metallicity())\n",
    "print(stars.get_mass_weighted_optical_depth())"
   ]
  },
  {
   "attachments": {},
   "cell_type": "markdown",
   "metadata": {},
   "source": [
    "## Parametric Stars\n",
    "\n",
    "The core element of the parametric modelling in synthesizer is the `parametric.Stars` object. This contains everything necessary to describe a stellar population including:\n",
    "\n",
    "- A 2D SFZH grid containing the stellar mass formed in stellar age and metallicity bins.\n",
    "\n",
    "- A `Morphology` object describing it's distribution (optional but required for imaging).\n",
    "\n",
    "- The axes of the SFZH grid.\n",
    "\n",
    "- The total initial stellar mass.\n",
    "\n",
    "And if calculated by the user:\n",
    "\n",
    "- The [stellar spectra](../emissions/spectra/stars.ipynb).\n",
    "\n",
    "- [Line luminosities](../emissions/lines/galaxy_lines.ipynb).\n",
    "\n",
    "There are a number of different methods to define a parametric stellar population (from here on a `Stars` object). In what follows we will focus on user defined values/arrays but note that each different method could instead use simulated data (e.g. from Semi Analytic Models) rather than user defined values.\n",
    "\n",
    "The possible ways of defining a `Stars` object are (the age and metallicity axis of the SFZH must always be supplied):\n",
    "\n",
    "- Explictly providing the SFZH grid itself. Note that this will mean all other definitions below are ignored.\n",
    "\n",
    "- Providing singular age and metallicity values to define an \"instantaneous\" SFZH, i.e. one where all the stellar mass is in a single age and metallicity bin.\n",
    "\n",
    "- Providing arrays which contain the SFH and metallicity distribution in terms of stellar mass formed.\n",
    "\n",
    "- Providing SFH and metallcity distribution functions (from `parametric.sf_hist` and `parametric.metal_dist`). These will be used internally to compute the arrays from the previous point.\n",
    "\n",
    "- Any combination of the above.\n",
    "\n",
    "Below we simply import some packages and objects we'll need."
   ]
  },
  {
   "cell_type": "code",
   "execution_count": null,
   "metadata": {},
   "outputs": [],
   "source": [
    "import numpy as np\n",
    "from unyt import Myr\n",
    "\n",
    "from synthesizer.parametric import SFH, Stars, ZDist"
   ]
  },
  {
   "cell_type": "markdown",
   "metadata": {},
   "source": [
    "### Defining an instantaneous SFZH\n",
    "\n",
    "To define an instantaneous SFZH we need only provide the age and metallicity of the SFZH bin, alongside the SFZH axis arrays and the total initial mass of the `Stars` object. Note that the `log10ages` and `log10metallicites`/`metallicities` will likely come from a `Grid` object in most workflows (see the `Grid` [docs](../emission_grids/grids.rst))."
   ]
  },
  {
   "cell_type": "code",
   "execution_count": null,
   "metadata": {},
   "outputs": [],
   "source": [
    "# Create the SFZH axis arrays\n",
    "log10ages = np.arange(6.0, 10.5, 0.1)  # log10(age/yr)\n",
    "log10metallicities = np.arange(-5.0, -1.5, 0.25)\n",
    "metallicities = 10**log10metallicities\n",
    "\n",
    "# Get the instantaneous Stars\n",
    "inst_stars = Stars(\n",
    "    log10ages,\n",
    "    metallicities,\n",
    "    sf_hist=105 * Myr,\n",
    "    metal_dist=10**-3,\n",
    "    initial_mass=10**9 * Msun,\n",
    ")"
   ]
  },
  {
   "cell_type": "markdown",
   "metadata": {},
   "source": [
    "To see the created SFZH you can print some basic statistics by running `print` directly on the `Stars` object."
   ]
  },
  {
   "cell_type": "code",
   "execution_count": null,
   "metadata": {},
   "outputs": [],
   "source": [
    "print(inst_stars)"
   ]
  },
  {
   "cell_type": "markdown",
   "metadata": {},
   "source": [
    "Or to probe the SFZH you can plot it using the provided helper function."
   ]
  },
  {
   "cell_type": "code",
   "execution_count": null,
   "metadata": {},
   "outputs": [],
   "source": [
    "fig, ax = inst_stars.plot_sfzh(show=True)"
   ]
  },
  {
   "cell_type": "markdown",
   "metadata": {},
   "source": [
    "### Defining a SFZH from arrays\n",
    "\n",
    "Of course, most of the time you won't want an instantaneous SFZH but instead a distribution. One way to achieve this is to pass arrays describing the SFH and metallicity distribution. This is particularly useful if you have data explictly describing the ages and metallicities of a stellar population. However, here we'll demonstrate this with entirely unphysical arrays."
   ]
  },
  {
   "cell_type": "code",
   "execution_count": null,
   "metadata": {},
   "outputs": [],
   "source": [
    "# Create arrays for SFH and ZDist\n",
    "sf_hist = np.zeros_like(log10ages)\n",
    "metal_dist = np.zeros_like(metallicities)\n",
    "sf_hist[10:15] = 1\n",
    "sf_hist[15:20] = 0.5\n",
    "metal_dist[5:6] = 1\n",
    "metal_dist[6:8] = 0.5\n",
    "\n",
    "# Get the Stars\n",
    "arr_stars = Stars(\n",
    "    log10ages,\n",
    "    metallicities,\n",
    "    sf_hist=sf_hist,\n",
    "    metal_dist=metal_dist,\n",
    "    initial_mass=10**9 * Msun,\n",
    ")\n",
    "print(arr_stars)\n",
    "fig, ax = arr_stars.plot_sfzh(show=True)"
   ]
  },
  {
   "cell_type": "markdown",
   "metadata": {},
   "source": [
    "### Defining a SFZH using functions\n",
    "\n",
    "Synthesizer provides a suite of parametric functions to describe the SFH and metallicity distributions.\n",
    "\n",
    "SFH parametrisations can be found in the `SFH` module, while metallicity distribution parametrisations can be found in the `ZDist` module. To see a full list of available parametrisations just print the `parametrisations` list from these modules`."
   ]
  },
  {
   "cell_type": "code",
   "execution_count": null,
   "metadata": {},
   "outputs": [],
   "source": [
    "print(SFH.parametrisations)\n",
    "print(ZDist.parametrisations)"
   ]
  },
  {
   "cell_type": "markdown",
   "metadata": {},
   "source": [
    "To use these parametrisations you have to first define an instance of a parametrisation, and then pass it to the `Stars` object at instantiation. Below we demonstrate an example using a delta function for the metallicity distribution, and a constant SFH. Note that you can combine any type of SFH and metallicity distribution inputs."
   ]
  },
  {
   "cell_type": "code",
   "execution_count": null,
   "metadata": {},
   "outputs": [],
   "source": [
    "# Define a delta function for metallicity\n",
    "metal_dist = ZDist.DeltaConstant(log10metallicity=-2.5)\n",
    "print(metal_dist)\n",
    "\n",
    "# Define a constant SFH\n",
    "sfh = SFH.Constant(100 * Myr)\n",
    "print(sfh)\n",
    "\n",
    "# Create the Stars object\n",
    "const_stars = Stars(\n",
    "    log10ages,\n",
    "    metallicities,\n",
    "    sf_hist=sfh,\n",
    "    metal_dist=metal_dist,\n",
    "    initial_mass=10**9 * Msun,\n",
    ")\n",
    "print(const_stars)\n",
    "fig, ax = const_stars.plot_sfzh(show=True)"
   ]
  },
  {
   "cell_type": "markdown",
   "metadata": {},
   "source": [
    "### Combining `Stars`\n",
    "\n",
    "We can also combine individual `Stars` objects together to produce more complicated star formation and metal enrichment histories by simply adding them."
   ]
  },
  {
   "cell_type": "code",
   "execution_count": null,
   "metadata": {},
   "outputs": [],
   "source": [
    "# Create an exponential Stars object\n",
    "sfh_exp = SFH.Exponential(20 * Myr, 1000 * Myr)\n",
    "\n",
    "exp_stars = Stars(\n",
    "    log10ages,\n",
    "    metallicities,\n",
    "    sf_hist=sfh_exp,\n",
    "    metal_dist=metal_dist,\n",
    "    initial_mass=10**9 * Msun,\n",
    ")\n",
    "\n",
    "# Create a log-normal Stars object\n",
    "sfh_logn = SFH.LogNormal(0.5, 100 * Myr, 3000 * Myr)\n",
    "\n",
    "logn_stars = Stars(\n",
    "    log10ages,\n",
    "    metallicities,\n",
    "    sf_hist=sfh_logn,\n",
    "    metal_dist=0.005,\n",
    "    initial_mass=10**9 * Msun,\n",
    ")\n",
    "\n",
    "combined = const_stars + exp_stars + logn_stars\n",
    "print(combined)\n",
    "\n",
    "fig, ax = combined.plot_sfzh()\n",
    "combined.plot_sfh(show=True)\n",
    "combined.plot_metal_dist(show=True)"
   ]
  },
  {
   "cell_type": "markdown",
   "metadata": {},
   "source": [
    "#### Defining your own parametrisations\n",
    "\n",
    "If synthesizer doesn't already include a parametrisation you need, you can add a custom parametrisation by defining a new class.\n",
    "\n",
    "The important requirements of a custom function are:\n",
    "\n",
    "- They inherit the `Common` parent class.\n",
    "\n",
    "- They instantiate the parent class (`SFH/ZDist.Common`) with the model parameters and a meaningful name.\n",
    "\n",
    "- They implement a private `_sfr` method which takes a single age and returns a single SFR weight in the `SFH` case, or they implement a `_weight` method which takes a single metallicity and returns a single metallicity weight in the `ZDist` case.\n",
    "\n",
    "- The `SFH` methods should perform their calculations in *years*.\n",
    "\n",
    "Below we demonstrate how to define a custom function using existing SFH and metallicity distribution functions for demonstration purposes."
   ]
  },
  {
   "cell_type": "code",
   "execution_count": null,
   "metadata": {},
   "outputs": [],
   "source": [
    "class Normal(ZDist.Common):\n",
    "    \"\"\"A normally distributed metallicity distribution.\n",
    "\n",
    "    Attributes:\n",
    "        mean (float):\n",
    "            The mean of the normal distribution.\n",
    "        sigma (float):\n",
    "            The standard deviation of the normal distribution.\n",
    "    \"\"\"\n",
    "\n",
    "    def __init__(self, mean, sigma):\n",
    "        \"\"\"Initialise the metallicity distribution and parent.\n",
    "\n",
    "        Either metallicity or log10metallicity must be provided.\n",
    "\n",
    "        Args:\n",
    "            mean (float):\n",
    "                The mean of the normal distribution.\n",
    "            sigma (float):\n",
    "                The standard deviation of the normal distribution.\n",
    "        \"\"\"\n",
    "        # Instantiate the parent\n",
    "        ZDist.Common.__init__(\n",
    "            self,\n",
    "            name=\"Normal\",\n",
    "            mean=mean,\n",
    "            sigma=sigma,\n",
    "        )\n",
    "\n",
    "        # Define this models parameters\n",
    "        self.mean = mean\n",
    "        self.sigma = sigma\n",
    "\n",
    "    def _weight(self, metal):\n",
    "        \"\"\"Return the distribution at a metallicity.\n",
    "\n",
    "        Args:\n",
    "            metal (float):\n",
    "                The (linear) metallicity at which to evaluate the distribution.\n",
    "\n",
    "        Returns:\n",
    "            float\n",
    "                The weight of the metallicity distribution at metal.\n",
    "        \"\"\"\n",
    "        norm = 1 / (self.sigma * np.sqrt(2 * np.pi))\n",
    "        exponent = ((metal - self.mean) / self.sigma) ** 2\n",
    "        return norm * np.exp(-0.5 * exponent)\n",
    "\n",
    "\n",
    "class Constant(SFH.Common):\n",
    "    \"\"\"A constant star formation history.\n",
    "\n",
    "    The SFR is defined such that:\n",
    "        sfr = 1; t<=duration\n",
    "        sfr = 0; t>duration\n",
    "\n",
    "    Attributes:\n",
    "        duration (float):\n",
    "            The duration of the period of constant star formation.\n",
    "    \"\"\"\n",
    "\n",
    "    def __init__(self, duration):\n",
    "        \"\"\"Initialise the parent and this parametrisation of the SFH.\n",
    "\n",
    "        Args:\n",
    "            duration (unyt_quantity):\n",
    "                The duration of the period of constant star formation.\n",
    "        \"\"\"\n",
    "        # Initialise the parent\n",
    "        SFH.Common.__init__(self, name=\"Constant\", duration=duration)\n",
    "\n",
    "        # Set the model parameters\n",
    "        self.duration = duration.to(\"yr\").value\n",
    "\n",
    "    def _sfr(self, age):\n",
    "        \"\"\"Get the amount SFR weight in a single age bin.\n",
    "\n",
    "        Args:\n",
    "            age (float):\n",
    "                The age (in years) at which to evaluate the SFR.\n",
    "        \"\"\"\n",
    "        # Set the SFR based on the duration.\n",
    "        if age <= self.duration:\n",
    "            return 1.0\n",
    "        return 0.0\n",
    "\n",
    "\n",
    "# Define a scaled delta function for metallicity\n",
    "metal_dist = Normal(mean=0.05, sigma=0.001)\n",
    "print(metal_dist)\n",
    "\n",
    "# Define an exponential SFH\n",
    "sfh = Constant(duration=500 * Myr)\n",
    "print(sfh)\n",
    "\n",
    "# Create the Stars object\n",
    "custom_stars = Stars(\n",
    "    log10ages,\n",
    "    metallicities,\n",
    "    sf_hist=sfh,\n",
    "    metal_dist=metal_dist,\n",
    "    initial_mass=10**9 * Msun,\n",
    ")\n",
    "print(custom_stars)\n",
    "fig, ax = custom_stars.plot_sfzh(show=True)"
   ]
  }
 ],
 "metadata": {},
 "nbformat": 4,
 "nbformat_minor": 2
}
